{
  "cells": [
    {
      "cell_type": "markdown",
      "metadata": {
        "id": "eNFAj0yhoUJ5"
      },
      "source": [
        "# Exploratory Data Analysis\n"
      ]
    },
    {
      "cell_type": "code",
      "execution_count": null,
      "metadata": {
        "id": "EVHM_q9Aaq8n"
      },
      "outputs": [],
      "source": [
        "# Importing required libraries.\n",
        "import pandas as pd\n",
        "import numpy as np\n",
        "import seaborn as sns\n",
        "import matplotlib.pyplot as plt\n",
        "%matplotlib inline \n",
        "sns.set(color_codes=True)"
      ]
    },
    {
      "cell_type": "code",
      "execution_count": null,
      "metadata": {
        "id": "Qf92szYcbRSy",
        "colab": {
          "base_uri": "https://localhost:8080/"
        },
        "outputId": "5f8899b1-90fb-49e3-d729-9ffc82d2a712"
      },
      "outputs": [
        {
          "output_type": "stream",
          "name": "stderr",
          "text": [
            "/usr/local/lib/python3.7/dist-packages/IPython/core/interactiveshell.py:2882: DtypeWarning: Columns (4) have mixed types.Specify dtype option on import or set low_memory=False.\n",
            "  exec(code_obj, self.user_global_ns, self.user_ns)\n"
          ]
        }
      ],
      "source": [
        "client_test = pd.read_csv(\"client_test.csv\")\n",
        "client_train = pd.read_csv(\"client_train.csv\")\n",
        "SampleSubmission = pd.read_csv(\"SampleSubmission.csv\")\n",
        "invoice_test = pd.read_csv(\"invoice_test.csv\")\n",
        "invoice_train = pd.read_csv(\"invoice_train.csv\")"
      ]
    },
    {
      "cell_type": "markdown",
      "metadata": {
        "id": "h5K356Agoany"
      },
      "source": [
        "understanding data"
      ]
    },
    {
      "cell_type": "code",
      "execution_count": null,
      "metadata": {
        "colab": {
          "base_uri": "https://localhost:8080/"
        },
        "id": "jiBeh77EgyEF",
        "outputId": "03fc4f1f-2e6d-4115-a2f0-a6ed4c6ed5bf"
      },
      "outputs": [
        {
          "output_type": "stream",
          "name": "stdout",
          "text": [
            "   disrict          client_id  client_catg  region creation_date  target\n",
            "0       60     train_Client_0           11     101    31/12/1994     0.0\n",
            "1       69     train_Client_1           11     107    29/05/2002     0.0\n",
            "2       62    train_Client_10           11     301    13/03/1986     0.0\n",
            "3       69   train_Client_100           11     105    11/07/1996     0.0\n",
            "4       62  train_Client_1000           11     303    14/10/2014     0.0\n",
            "\n",
            "——————\n",
            "        client_id invoice_date  tarif_type  counter_number counter_statue  \\\n",
            "0  train_Client_0   2014-03-24          11         1335667              0   \n",
            "1  train_Client_0   2013-03-29          11         1335667              0   \n",
            "2  train_Client_0   2015-03-23          11         1335667              0   \n",
            "3  train_Client_0   2015-07-13          11         1335667              0   \n",
            "4  train_Client_0   2016-11-17          11         1335667              0   \n",
            "\n",
            "   counter_code  reading_remarque  counter_coefficient  consommation_level_1  \\\n",
            "0           203                 8                    1                    82   \n",
            "1           203                 6                    1                  1200   \n",
            "2           203                 8                    1                   123   \n",
            "3           207                 8                    1                   102   \n",
            "4           207                 9                    1                   572   \n",
            "\n",
            "   consommation_level_2  consommation_level_3  consommation_level_4  \\\n",
            "0                     0                     0                     0   \n",
            "1                   184                     0                     0   \n",
            "2                     0                     0                     0   \n",
            "3                     0                     0                     0   \n",
            "4                     0                     0                     0   \n",
            "\n",
            "   old_index  new_index  months_number counter_type  \n",
            "0      14302      14384              4         ELEC  \n",
            "1      12294      13678              4         ELEC  \n",
            "2      14624      14747              4         ELEC  \n",
            "3      14747      14849              4         ELEC  \n",
            "4      15066      15638             12         ELEC  \n"
          ]
        }
      ],
      "source": [
        "print(client_train.head()), print('\\n——————')\n",
        "print(invoice_train.head())\n",
        "#print(client_test.head()), print('\\n——————')\n",
        "#print(SampleSubmission.head()), print('\\n——————')\n",
        "#print(invoice_test.head()), print('\\n——————')"
      ]
    },
    {
      "cell_type": "code",
      "execution_count": null,
      "metadata": {
        "colab": {
          "base_uri": "https://localhost:8080/"
        },
        "id": "ThmzC5uQuUwK",
        "outputId": "db15df50-4256-45a4-8c99-e5133982d2d3"
      },
      "outputs": [
        {
          "output_type": "stream",
          "name": "stdout",
          "text": [
            "        disrict           client_id  client_catg  region creation_date  target\n",
            "135488       62  train_Client_99995           11     304    26/07/2004     0.0\n",
            "135489       63  train_Client_99996           11     311    25/10/2012     0.0\n",
            "135490       63  train_Client_99997           11     311    22/11/2011     0.0\n",
            "135491       60  train_Client_99998           11     101    22/12/1993     0.0\n",
            "135492       60  train_Client_99999           11     101    18/02/1986     0.0\n",
            "\n",
            "——————\n",
            "                  client_id invoice_date  tarif_type  counter_number  \\\n",
            "4476744  train_Client_99998   2005-08-19          10         1253571   \n",
            "4476745  train_Client_99998   2005-12-19          10         1253571   \n",
            "4476746  train_Client_99999   1996-09-25          11          560948   \n",
            "4476747  train_Client_99999   1996-05-28          11          560948   \n",
            "4476748  train_Client_99999   1996-01-25          11          560948   \n",
            "\n",
            "        counter_statue  counter_code  reading_remarque  counter_coefficient  \\\n",
            "4476744              0           202                 9                    1   \n",
            "4476745              0           202                 6                    1   \n",
            "4476746              0           203                 6                    1   \n",
            "4476747              0           203                 6                    1   \n",
            "4476748              0           203                 6                    1   \n",
            "\n",
            "         consommation_level_1  consommation_level_2  consommation_level_3  \\\n",
            "4476744                   400                   135                     0   \n",
            "4476745                   200                     6                     0   \n",
            "4476746                   259                     0                     0   \n",
            "4476747                   603                     0                     0   \n",
            "4476748                   516                     0                     0   \n",
            "\n",
            "         consommation_level_4  old_index  new_index  months_number  \\\n",
            "4476744                     0       3197       3732              8   \n",
            "4476745                     0       3732       3938              4   \n",
            "4476746                     0      13884      14143              4   \n",
            "4476747                     0      13281      13884              4   \n",
            "4476748                     0      12765      13281              4   \n",
            "\n",
            "        counter_type  \n",
            "4476744         ELEC  \n",
            "4476745         ELEC  \n",
            "4476746         ELEC  \n",
            "4476747         ELEC  \n",
            "4476748         ELEC  \n"
          ]
        }
      ],
      "source": [
        "print(client_train.tail()), print('\\n——————')\n",
        "print(invoice_train.tail())\n",
        "#print(client_test.tail()), print('\\n——————')\n",
        "#print(SampleSubmission.tail()), print('\\n——————')\n",
        "#print(invoice_test.tail()), print('\\n——————')"
      ]
    },
    {
      "cell_type": "code",
      "execution_count": null,
      "metadata": {
        "colab": {
          "base_uri": "https://localhost:8080/"
        },
        "id": "57v5KWd9i7o2",
        "outputId": "543ae56a-6e32-4316-ed0b-bb8547332c0a"
      },
      "outputs": [
        {
          "output_type": "stream",
          "name": "stdout",
          "text": [
            "client_test shape is : (58069, 5) \n",
            " client_train shape is : (135493, 6) \n",
            " invoice_test shape is : (1939730, 16) \n",
            " invoice_train shape is : (4476749, 16)\n"
          ]
        }
      ],
      "source": [
        "print(f'client_test shape is : {client_test.shape}',\n",
        "      f'\\n client_train shape is : {client_train.shape}',\n",
        "      f'\\n invoice_test shape is : {invoice_test.shape}', \n",
        "      f'\\n invoice_train shape is : {invoice_train.shape}',\n",
        "      #f'\\n SampleSubmission shape is {SampleSubmission.shape}'\n",
        "      )"
      ]
    },
    {
      "cell_type": "code",
      "execution_count": null,
      "metadata": {
        "colab": {
          "base_uri": "https://localhost:8080/"
        },
        "id": "fN3RnkgWpOxP",
        "outputId": "9d149b0d-8ba2-4dcb-b8bd-0e4b29316350"
      },
      "outputs": [
        {
          "output_type": "stream",
          "name": "stdout",
          "text": [
            "<class 'pandas.core.frame.DataFrame'>\n",
            "RangeIndex: 135493 entries, 0 to 135492\n",
            "Data columns (total 6 columns):\n",
            " #   Column         Non-Null Count   Dtype  \n",
            "---  ------         --------------   -----  \n",
            " 0   disrict        135493 non-null  int64  \n",
            " 1   client_id      135493 non-null  object \n",
            " 2   client_catg    135493 non-null  int64  \n",
            " 3   region         135493 non-null  int64  \n",
            " 4   creation_date  135493 non-null  object \n",
            " 5   target         135493 non-null  float64\n",
            "dtypes: float64(1), int64(3), object(2)\n",
            "memory usage: 6.2+ MB\n",
            "None\n",
            "\n",
            "——————\n",
            "<class 'pandas.core.frame.DataFrame'>\n",
            "RangeIndex: 4476749 entries, 0 to 4476748\n",
            "Data columns (total 16 columns):\n",
            " #   Column                Dtype \n",
            "---  ------                ----- \n",
            " 0   client_id             object\n",
            " 1   invoice_date          object\n",
            " 2   tarif_type            int64 \n",
            " 3   counter_number        int64 \n",
            " 4   counter_statue        object\n",
            " 5   counter_code          int64 \n",
            " 6   reading_remarque      int64 \n",
            " 7   counter_coefficient   int64 \n",
            " 8   consommation_level_1  int64 \n",
            " 9   consommation_level_2  int64 \n",
            " 10  consommation_level_3  int64 \n",
            " 11  consommation_level_4  int64 \n",
            " 12  old_index             int64 \n",
            " 13  new_index             int64 \n",
            " 14  months_number         int64 \n",
            " 15  counter_type          object\n",
            "dtypes: int64(12), object(4)\n",
            "memory usage: 546.5+ MB\n",
            "None\n"
          ]
        }
      ],
      "source": [
        "print(client_train.info()), print('\\n——————')\n",
        "print(invoice_train.info())\n",
        "#print(client_test.info()), print('\\n——————')\n",
        "#print(SampleSubmission.info()), print('\\n——————')\n",
        "#print(invoice_test.info()), print('\\n——————')"
      ]
    },
    {
      "cell_type": "code",
      "execution_count": null,
      "metadata": {
        "colab": {
          "base_uri": "https://localhost:8080/"
        },
        "id": "vzEn8L69pUgG",
        "outputId": "e205bc58-6385-4468-9a3b-d68f8b4b7069"
      },
      "outputs": [
        {
          "output_type": "stream",
          "name": "stdout",
          "text": [
            "             disrict    client_catg         region         target\n",
            "count  135493.000000  135493.000000  135493.000000  135493.000000\n",
            "mean       63.511222      11.512506     206.159809       0.055841\n",
            "std         3.354400       4.423761     104.207044       0.229614\n",
            "min        60.000000      11.000000     101.000000       0.000000\n",
            "25%        62.000000      11.000000     103.000000       0.000000\n",
            "50%        62.000000      11.000000     107.000000       0.000000\n",
            "75%        69.000000      11.000000     307.000000       0.000000\n",
            "max        69.000000      51.000000     399.000000       1.000000\n",
            "\n",
            "——————\n",
            "         tarif_type  counter_number  counter_code  reading_remarque  \\\n",
            "count  4.476749e+06    4.476749e+06  4.476749e+06      4.476749e+06   \n",
            "mean   2.012804e+01    1.230587e+11  1.724884e+02      7.321702e+00   \n",
            "std    1.347256e+01    1.657267e+12  1.338871e+02      1.571654e+00   \n",
            "min    8.000000e+00    0.000000e+00  0.000000e+00      5.000000e+00   \n",
            "25%    1.100000e+01    1.211080e+05  5.000000e+00      6.000000e+00   \n",
            "50%    1.100000e+01    4.945610e+05  2.030000e+02      8.000000e+00   \n",
            "75%    4.000000e+01    1.115161e+06  2.070000e+02      9.000000e+00   \n",
            "max    4.500000e+01    2.798115e+13  6.000000e+02      4.130000e+02   \n",
            "\n",
            "       counter_coefficient  consommation_level_1  consommation_level_2  \\\n",
            "count         4.476749e+06          4.476749e+06          4.476749e+06   \n",
            "mean          1.003040e+00          4.109795e+02          1.093225e+02   \n",
            "std           3.083466e-01          7.573080e+02          1.220123e+03   \n",
            "min           0.000000e+00          0.000000e+00          0.000000e+00   \n",
            "25%           1.000000e+00          7.900000e+01          0.000000e+00   \n",
            "50%           1.000000e+00          2.740000e+02          0.000000e+00   \n",
            "75%           1.000000e+00          6.000000e+02          0.000000e+00   \n",
            "max           5.000000e+01          9.999100e+05          9.990730e+05   \n",
            "\n",
            "       consommation_level_3  consommation_level_4     old_index     new_index  \\\n",
            "count          4.476749e+06          4.476749e+06  4.476749e+06  4.476749e+06   \n",
            "mean           2.030620e+01          5.292588e+01  1.776700e+04  1.834970e+04   \n",
            "std            1.574239e+02          8.754725e+02  4.036693e+04  4.095321e+04   \n",
            "min            0.000000e+00          0.000000e+00  0.000000e+00  0.000000e+00   \n",
            "25%            0.000000e+00          0.000000e+00  1.791000e+03  2.056000e+03   \n",
            "50%            0.000000e+00          0.000000e+00  7.690000e+03  8.192000e+03   \n",
            "75%            0.000000e+00          0.000000e+00  2.166000e+04  2.234300e+04   \n",
            "max            6.449200e+04          5.479460e+05  2.800280e+06  2.870972e+06   \n",
            "\n",
            "       months_number  \n",
            "count   4.476749e+06  \n",
            "mean    4.483095e+01  \n",
            "std     3.128335e+03  \n",
            "min     0.000000e+00  \n",
            "25%     4.000000e+00  \n",
            "50%     4.000000e+00  \n",
            "75%     4.000000e+00  \n",
            "max     6.366240e+05  \n"
          ]
        }
      ],
      "source": [
        "print(client_train.describe()), print('\\n——————')\n",
        "print(invoice_train.describe())\n",
        "#print(client_test.describe()), print('\\n——————')\n",
        "#print(SampleSubmission.describe()), print('\\n——————')\n",
        "#print(invoice_test.describe()), print('\\n——————')"
      ]
    },
    {
      "cell_type": "code",
      "execution_count": null,
      "metadata": {
        "colab": {
          "base_uri": "https://localhost:8080/",
          "height": 145
        },
        "id": "6i4zLSYqqbSh",
        "outputId": "cf8550aa-d2d6-48bc-fc20-f98db94cb4fe"
      },
      "outputs": [
        {
          "output_type": "execute_result",
          "data": {
            "text/plain": [
              "                  client_id invoice_date  tarif_type  counter_number  \\\n",
              "3524351  train_Client_74198   2009-10-22          15          207804   \n",
              "\n",
              "        counter_statue  counter_code  reading_remarque  counter_coefficient  \\\n",
              "3524351              0           202                 6                    1   \n",
              "\n",
              "         consommation_level_1  consommation_level_2  consommation_level_3  \\\n",
              "3524351                     0                     0                     0   \n",
              "\n",
              "         consommation_level_4  old_index  new_index  months_number  \\\n",
              "3524351                     0      23205      23205              4   \n",
              "\n",
              "        counter_type  \n",
              "3524351         ELEC  "
            ],
            "text/html": [
              "\n",
              "  <div id=\"df-6a2113cc-db2b-4b77-8be4-2befa936679d\">\n",
              "    <div class=\"colab-df-container\">\n",
              "      <div>\n",
              "<style scoped>\n",
              "    .dataframe tbody tr th:only-of-type {\n",
              "        vertical-align: middle;\n",
              "    }\n",
              "\n",
              "    .dataframe tbody tr th {\n",
              "        vertical-align: top;\n",
              "    }\n",
              "\n",
              "    .dataframe thead th {\n",
              "        text-align: right;\n",
              "    }\n",
              "</style>\n",
              "<table border=\"1\" class=\"dataframe\">\n",
              "  <thead>\n",
              "    <tr style=\"text-align: right;\">\n",
              "      <th></th>\n",
              "      <th>client_id</th>\n",
              "      <th>invoice_date</th>\n",
              "      <th>tarif_type</th>\n",
              "      <th>counter_number</th>\n",
              "      <th>counter_statue</th>\n",
              "      <th>counter_code</th>\n",
              "      <th>reading_remarque</th>\n",
              "      <th>counter_coefficient</th>\n",
              "      <th>consommation_level_1</th>\n",
              "      <th>consommation_level_2</th>\n",
              "      <th>consommation_level_3</th>\n",
              "      <th>consommation_level_4</th>\n",
              "      <th>old_index</th>\n",
              "      <th>new_index</th>\n",
              "      <th>months_number</th>\n",
              "      <th>counter_type</th>\n",
              "    </tr>\n",
              "  </thead>\n",
              "  <tbody>\n",
              "    <tr>\n",
              "      <th>3524351</th>\n",
              "      <td>train_Client_74198</td>\n",
              "      <td>2009-10-22</td>\n",
              "      <td>15</td>\n",
              "      <td>207804</td>\n",
              "      <td>0</td>\n",
              "      <td>202</td>\n",
              "      <td>6</td>\n",
              "      <td>1</td>\n",
              "      <td>0</td>\n",
              "      <td>0</td>\n",
              "      <td>0</td>\n",
              "      <td>0</td>\n",
              "      <td>23205</td>\n",
              "      <td>23205</td>\n",
              "      <td>4</td>\n",
              "      <td>ELEC</td>\n",
              "    </tr>\n",
              "  </tbody>\n",
              "</table>\n",
              "</div>\n",
              "      <button class=\"colab-df-convert\" onclick=\"convertToInteractive('df-6a2113cc-db2b-4b77-8be4-2befa936679d')\"\n",
              "              title=\"Convert this dataframe to an interactive table.\"\n",
              "              style=\"display:none;\">\n",
              "        \n",
              "  <svg xmlns=\"http://www.w3.org/2000/svg\" height=\"24px\"viewBox=\"0 0 24 24\"\n",
              "       width=\"24px\">\n",
              "    <path d=\"M0 0h24v24H0V0z\" fill=\"none\"/>\n",
              "    <path d=\"M18.56 5.44l.94 2.06.94-2.06 2.06-.94-2.06-.94-.94-2.06-.94 2.06-2.06.94zm-11 1L8.5 8.5l.94-2.06 2.06-.94-2.06-.94L8.5 2.5l-.94 2.06-2.06.94zm10 10l.94 2.06.94-2.06 2.06-.94-2.06-.94-.94-2.06-.94 2.06-2.06.94z\"/><path d=\"M17.41 7.96l-1.37-1.37c-.4-.4-.92-.59-1.43-.59-.52 0-1.04.2-1.43.59L10.3 9.45l-7.72 7.72c-.78.78-.78 2.05 0 2.83L4 21.41c.39.39.9.59 1.41.59.51 0 1.02-.2 1.41-.59l7.78-7.78 2.81-2.81c.8-.78.8-2.07 0-2.86zM5.41 20L4 18.59l7.72-7.72 1.47 1.35L5.41 20z\"/>\n",
              "  </svg>\n",
              "      </button>\n",
              "      \n",
              "  <style>\n",
              "    .colab-df-container {\n",
              "      display:flex;\n",
              "      flex-wrap:wrap;\n",
              "      gap: 12px;\n",
              "    }\n",
              "\n",
              "    .colab-df-convert {\n",
              "      background-color: #E8F0FE;\n",
              "      border: none;\n",
              "      border-radius: 50%;\n",
              "      cursor: pointer;\n",
              "      display: none;\n",
              "      fill: #1967D2;\n",
              "      height: 32px;\n",
              "      padding: 0 0 0 0;\n",
              "      width: 32px;\n",
              "    }\n",
              "\n",
              "    .colab-df-convert:hover {\n",
              "      background-color: #E2EBFA;\n",
              "      box-shadow: 0px 1px 2px rgba(60, 64, 67, 0.3), 0px 1px 3px 1px rgba(60, 64, 67, 0.15);\n",
              "      fill: #174EA6;\n",
              "    }\n",
              "\n",
              "    [theme=dark] .colab-df-convert {\n",
              "      background-color: #3B4455;\n",
              "      fill: #D2E3FC;\n",
              "    }\n",
              "\n",
              "    [theme=dark] .colab-df-convert:hover {\n",
              "      background-color: #434B5C;\n",
              "      box-shadow: 0px 1px 3px 1px rgba(0, 0, 0, 0.15);\n",
              "      filter: drop-shadow(0px 1px 2px rgba(0, 0, 0, 0.3));\n",
              "      fill: #FFFFFF;\n",
              "    }\n",
              "  </style>\n",
              "\n",
              "      <script>\n",
              "        const buttonEl =\n",
              "          document.querySelector('#df-6a2113cc-db2b-4b77-8be4-2befa936679d button.colab-df-convert');\n",
              "        buttonEl.style.display =\n",
              "          google.colab.kernel.accessAllowed ? 'block' : 'none';\n",
              "\n",
              "        async function convertToInteractive(key) {\n",
              "          const element = document.querySelector('#df-6a2113cc-db2b-4b77-8be4-2befa936679d');\n",
              "          const dataTable =\n",
              "            await google.colab.kernel.invokeFunction('convertToInteractive',\n",
              "                                                     [key], {});\n",
              "          if (!dataTable) return;\n",
              "\n",
              "          const docLinkHtml = 'Like what you see? Visit the ' +\n",
              "            '<a target=\"_blank\" href=https://colab.research.google.com/notebooks/data_table.ipynb>data table notebook</a>'\n",
              "            + ' to learn more about interactive tables.';\n",
              "          element.innerHTML = '';\n",
              "          dataTable['output_type'] = 'display_data';\n",
              "          await google.colab.output.renderOutput(dataTable, element);\n",
              "          const docLink = document.createElement('div');\n",
              "          docLink.innerHTML = docLinkHtml;\n",
              "          element.appendChild(docLink);\n",
              "        }\n",
              "      </script>\n",
              "    </div>\n",
              "  </div>\n",
              "  "
            ]
          },
          "metadata": {},
          "execution_count": 161
        }
      ],
      "source": [
        "invoice_train.sample()"
      ]
    },
    {
      "cell_type": "code",
      "execution_count": null,
      "metadata": {
        "colab": {
          "base_uri": "https://localhost:8080/",
          "height": 81
        },
        "id": "qolcl7FaKo1d",
        "outputId": "fa6371ae-4b44-4e9c-9680-86484dc005fa"
      },
      "outputs": [
        {
          "output_type": "execute_result",
          "data": {
            "text/plain": [
              "        disrict           client_id  client_catg  region creation_date  target\n",
              "111980       63  train_Client_78837           11     306    11/06/1979     0.0"
            ],
            "text/html": [
              "\n",
              "  <div id=\"df-b9a625ef-b420-4d83-88a9-fab072955d34\">\n",
              "    <div class=\"colab-df-container\">\n",
              "      <div>\n",
              "<style scoped>\n",
              "    .dataframe tbody tr th:only-of-type {\n",
              "        vertical-align: middle;\n",
              "    }\n",
              "\n",
              "    .dataframe tbody tr th {\n",
              "        vertical-align: top;\n",
              "    }\n",
              "\n",
              "    .dataframe thead th {\n",
              "        text-align: right;\n",
              "    }\n",
              "</style>\n",
              "<table border=\"1\" class=\"dataframe\">\n",
              "  <thead>\n",
              "    <tr style=\"text-align: right;\">\n",
              "      <th></th>\n",
              "      <th>disrict</th>\n",
              "      <th>client_id</th>\n",
              "      <th>client_catg</th>\n",
              "      <th>region</th>\n",
              "      <th>creation_date</th>\n",
              "      <th>target</th>\n",
              "    </tr>\n",
              "  </thead>\n",
              "  <tbody>\n",
              "    <tr>\n",
              "      <th>111980</th>\n",
              "      <td>63</td>\n",
              "      <td>train_Client_78837</td>\n",
              "      <td>11</td>\n",
              "      <td>306</td>\n",
              "      <td>11/06/1979</td>\n",
              "      <td>0.0</td>\n",
              "    </tr>\n",
              "  </tbody>\n",
              "</table>\n",
              "</div>\n",
              "      <button class=\"colab-df-convert\" onclick=\"convertToInteractive('df-b9a625ef-b420-4d83-88a9-fab072955d34')\"\n",
              "              title=\"Convert this dataframe to an interactive table.\"\n",
              "              style=\"display:none;\">\n",
              "        \n",
              "  <svg xmlns=\"http://www.w3.org/2000/svg\" height=\"24px\"viewBox=\"0 0 24 24\"\n",
              "       width=\"24px\">\n",
              "    <path d=\"M0 0h24v24H0V0z\" fill=\"none\"/>\n",
              "    <path d=\"M18.56 5.44l.94 2.06.94-2.06 2.06-.94-2.06-.94-.94-2.06-.94 2.06-2.06.94zm-11 1L8.5 8.5l.94-2.06 2.06-.94-2.06-.94L8.5 2.5l-.94 2.06-2.06.94zm10 10l.94 2.06.94-2.06 2.06-.94-2.06-.94-.94-2.06-.94 2.06-2.06.94z\"/><path d=\"M17.41 7.96l-1.37-1.37c-.4-.4-.92-.59-1.43-.59-.52 0-1.04.2-1.43.59L10.3 9.45l-7.72 7.72c-.78.78-.78 2.05 0 2.83L4 21.41c.39.39.9.59 1.41.59.51 0 1.02-.2 1.41-.59l7.78-7.78 2.81-2.81c.8-.78.8-2.07 0-2.86zM5.41 20L4 18.59l7.72-7.72 1.47 1.35L5.41 20z\"/>\n",
              "  </svg>\n",
              "      </button>\n",
              "      \n",
              "  <style>\n",
              "    .colab-df-container {\n",
              "      display:flex;\n",
              "      flex-wrap:wrap;\n",
              "      gap: 12px;\n",
              "    }\n",
              "\n",
              "    .colab-df-convert {\n",
              "      background-color: #E8F0FE;\n",
              "      border: none;\n",
              "      border-radius: 50%;\n",
              "      cursor: pointer;\n",
              "      display: none;\n",
              "      fill: #1967D2;\n",
              "      height: 32px;\n",
              "      padding: 0 0 0 0;\n",
              "      width: 32px;\n",
              "    }\n",
              "\n",
              "    .colab-df-convert:hover {\n",
              "      background-color: #E2EBFA;\n",
              "      box-shadow: 0px 1px 2px rgba(60, 64, 67, 0.3), 0px 1px 3px 1px rgba(60, 64, 67, 0.15);\n",
              "      fill: #174EA6;\n",
              "    }\n",
              "\n",
              "    [theme=dark] .colab-df-convert {\n",
              "      background-color: #3B4455;\n",
              "      fill: #D2E3FC;\n",
              "    }\n",
              "\n",
              "    [theme=dark] .colab-df-convert:hover {\n",
              "      background-color: #434B5C;\n",
              "      box-shadow: 0px 1px 3px 1px rgba(0, 0, 0, 0.15);\n",
              "      filter: drop-shadow(0px 1px 2px rgba(0, 0, 0, 0.3));\n",
              "      fill: #FFFFFF;\n",
              "    }\n",
              "  </style>\n",
              "\n",
              "      <script>\n",
              "        const buttonEl =\n",
              "          document.querySelector('#df-b9a625ef-b420-4d83-88a9-fab072955d34 button.colab-df-convert');\n",
              "        buttonEl.style.display =\n",
              "          google.colab.kernel.accessAllowed ? 'block' : 'none';\n",
              "\n",
              "        async function convertToInteractive(key) {\n",
              "          const element = document.querySelector('#df-b9a625ef-b420-4d83-88a9-fab072955d34');\n",
              "          const dataTable =\n",
              "            await google.colab.kernel.invokeFunction('convertToInteractive',\n",
              "                                                     [key], {});\n",
              "          if (!dataTable) return;\n",
              "\n",
              "          const docLinkHtml = 'Like what you see? Visit the ' +\n",
              "            '<a target=\"_blank\" href=https://colab.research.google.com/notebooks/data_table.ipynb>data table notebook</a>'\n",
              "            + ' to learn more about interactive tables.';\n",
              "          element.innerHTML = '';\n",
              "          dataTable['output_type'] = 'display_data';\n",
              "          await google.colab.output.renderOutput(dataTable, element);\n",
              "          const docLink = document.createElement('div');\n",
              "          docLink.innerHTML = docLinkHtml;\n",
              "          element.appendChild(docLink);\n",
              "        }\n",
              "      </script>\n",
              "    </div>\n",
              "  </div>\n",
              "  "
            ]
          },
          "metadata": {},
          "execution_count": 162
        }
      ],
      "source": [
        "client_train.sample()"
      ]
    },
    {
      "cell_type": "code",
      "execution_count": null,
      "metadata": {
        "colab": {
          "base_uri": "https://localhost:8080/"
        },
        "id": "TiW5SLRzJSx_",
        "outputId": "be6da87f-4611-468f-f715-f7375c34517b"
      },
      "outputs": [
        {
          "output_type": "execute_result",
          "data": {
            "text/plain": [
              "client_id               object\n",
              "invoice_date            object\n",
              "tarif_type               int64\n",
              "counter_number           int64\n",
              "counter_statue          object\n",
              "counter_code             int64\n",
              "reading_remarque         int64\n",
              "counter_coefficient      int64\n",
              "consommation_level_1     int64\n",
              "consommation_level_2     int64\n",
              "consommation_level_3     int64\n",
              "consommation_level_4     int64\n",
              "old_index                int64\n",
              "new_index                int64\n",
              "months_number            int64\n",
              "counter_type            object\n",
              "dtype: object"
            ]
          },
          "metadata": {},
          "execution_count": 163
        }
      ],
      "source": [
        "invoice_train.dtypes"
      ]
    },
    {
      "cell_type": "code",
      "execution_count": null,
      "metadata": {
        "colab": {
          "base_uri": "https://localhost:8080/"
        },
        "id": "xEc5PiYjK8wl",
        "outputId": "834c5a72-e216-4a4c-c30b-7bdede670c86"
      },
      "outputs": [
        {
          "output_type": "execute_result",
          "data": {
            "text/plain": [
              "disrict            int64\n",
              "client_id         object\n",
              "client_catg        int64\n",
              "region             int64\n",
              "creation_date     object\n",
              "target           float64\n",
              "dtype: object"
            ]
          },
          "metadata": {},
          "execution_count": 164
        }
      ],
      "source": [
        "client_train.dtypes"
      ]
    },
    {
      "cell_type": "markdown",
      "metadata": {
        "id": "2ecV6eGGond-"
      },
      "source": [
        "Clearing Data"
      ]
    },
    {
      "cell_type": "code",
      "execution_count": null,
      "metadata": {
        "colab": {
          "base_uri": "https://localhost:8080/"
        },
        "id": "-OvybdNTLCOC",
        "outputId": "c9e06bb7-8f45-4913-d884-32eb7f8a98be"
      },
      "outputs": [
        {
          "output_type": "stream",
          "name": "stdout",
          "text": [
            "number of duplicate rows:  (135493, 6)\n"
          ]
        }
      ],
      "source": [
        "duplicate_rows_df1 = [client_train.duplicated()]\n",
        "print('number of duplicate rows: ', client_train.shape)"
      ]
    },
    {
      "cell_type": "code",
      "execution_count": null,
      "metadata": {
        "colab": {
          "base_uri": "https://localhost:8080/"
        },
        "id": "wtW348CMMKNY",
        "outputId": "208a9a1c-6200-4be4-c314-3ded5d1481d4"
      },
      "outputs": [
        {
          "output_type": "stream",
          "name": "stdout",
          "text": [
            "number of duplicate rows:  (4476749, 16)\n"
          ]
        }
      ],
      "source": [
        "duplicate_rows_df = [invoice_train.duplicated()]\n",
        "print('number of duplicate rows: ', invoice_train.shape)"
      ]
    },
    {
      "cell_type": "code",
      "execution_count": null,
      "metadata": {
        "colab": {
          "base_uri": "https://localhost:8080/"
        },
        "id": "lt2wYxjuM2K7",
        "outputId": "6d3498e8-040f-4473-bdea-9f0bd129d873"
      },
      "outputs": [
        {
          "output_type": "execute_result",
          "data": {
            "text/plain": [
              "client_id               4476749\n",
              "invoice_date            4476749\n",
              "tarif_type              4476749\n",
              "counter_number          4476749\n",
              "counter_statue          4476749\n",
              "counter_code            4476749\n",
              "reading_remarque        4476749\n",
              "counter_coefficient     4476749\n",
              "consommation_level_1    4476749\n",
              "consommation_level_2    4476749\n",
              "consommation_level_3    4476749\n",
              "consommation_level_4    4476749\n",
              "old_index               4476749\n",
              "new_index               4476749\n",
              "months_number           4476749\n",
              "counter_type            4476749\n",
              "dtype: int64"
            ]
          },
          "metadata": {},
          "execution_count": 167
        }
      ],
      "source": [
        "invoice_train.count()"
      ]
    },
    {
      "cell_type": "code",
      "execution_count": null,
      "metadata": {
        "colab": {
          "base_uri": "https://localhost:8080/"
        },
        "id": "A_3zZTRsM7Zb",
        "outputId": "6403d45a-774e-466e-a874-2b371e8ffb71"
      },
      "outputs": [
        {
          "output_type": "execute_result",
          "data": {
            "text/plain": [
              "disrict          135493\n",
              "client_id        135493\n",
              "client_catg      135493\n",
              "region           135493\n",
              "creation_date    135493\n",
              "target           135493\n",
              "dtype: int64"
            ]
          },
          "metadata": {},
          "execution_count": 168
        }
      ],
      "source": [
        "client_train.count()"
      ]
    },
    {
      "cell_type": "code",
      "execution_count": null,
      "metadata": {
        "colab": {
          "base_uri": "https://localhost:8080/"
        },
        "id": "zNJFspQdNKc1",
        "outputId": "b0dc5a59-5d9d-4048-eaa3-1d82d4973934"
      },
      "outputs": [
        {
          "output_type": "execute_result",
          "data": {
            "text/plain": [
              "client_id               4476738\n",
              "invoice_date            4476738\n",
              "tarif_type              4476738\n",
              "counter_number          4476738\n",
              "counter_statue          4476738\n",
              "counter_code            4476738\n",
              "reading_remarque        4476738\n",
              "counter_coefficient     4476738\n",
              "consommation_level_1    4476738\n",
              "consommation_level_2    4476738\n",
              "consommation_level_3    4476738\n",
              "consommation_level_4    4476738\n",
              "old_index               4476738\n",
              "new_index               4476738\n",
              "months_number           4476738\n",
              "counter_type            4476738\n",
              "dtype: int64"
            ]
          },
          "metadata": {},
          "execution_count": 169
        }
      ],
      "source": [
        "invoice_train = invoice_train.drop_duplicates()\n",
        "invoice_train.count()"
      ]
    },
    {
      "cell_type": "code",
      "execution_count": null,
      "metadata": {
        "colab": {
          "base_uri": "https://localhost:8080/"
        },
        "id": "g0ab4nIDNEt6",
        "outputId": "fbf8152c-add4-4bb2-b3ae-8a31db0bbf7d"
      },
      "outputs": [
        {
          "output_type": "execute_result",
          "data": {
            "text/plain": [
              "disrict          135493\n",
              "client_id        135493\n",
              "client_catg      135493\n",
              "region           135493\n",
              "creation_date    135493\n",
              "target           135493\n",
              "dtype: int64"
            ]
          },
          "metadata": {},
          "execution_count": 170
        }
      ],
      "source": [
        "client_train = client_train.drop_duplicates()\n",
        "client_train.count()"
      ]
    },
    {
      "cell_type": "code",
      "execution_count": null,
      "metadata": {
        "colab": {
          "base_uri": "https://localhost:8080/"
        },
        "id": "qWODAn7MNh2w",
        "outputId": "1cdf16a0-619f-4e6d-a1ca-4811b226e704"
      },
      "outputs": [
        {
          "output_type": "stream",
          "name": "stdout",
          "text": [
            "disrict          0\n",
            "client_id        0\n",
            "client_catg      0\n",
            "region           0\n",
            "creation_date    0\n",
            "target           0\n",
            "dtype: int64\n"
          ]
        }
      ],
      "source": [
        "print(client_train.isnull().sum())"
      ]
    },
    {
      "cell_type": "code",
      "execution_count": null,
      "metadata": {
        "colab": {
          "base_uri": "https://localhost:8080/"
        },
        "id": "o1tuBfh2NlQG",
        "outputId": "25ed0839-f3de-4e5f-bf9b-d03d43e89f0b"
      },
      "outputs": [
        {
          "output_type": "stream",
          "name": "stdout",
          "text": [
            "client_id               0\n",
            "invoice_date            0\n",
            "tarif_type              0\n",
            "counter_number          0\n",
            "counter_statue          0\n",
            "counter_code            0\n",
            "reading_remarque        0\n",
            "counter_coefficient     0\n",
            "consommation_level_1    0\n",
            "consommation_level_2    0\n",
            "consommation_level_3    0\n",
            "consommation_level_4    0\n",
            "old_index               0\n",
            "new_index               0\n",
            "months_number           0\n",
            "counter_type            0\n",
            "dtype: int64\n"
          ]
        }
      ],
      "source": [
        "print(invoice_train.isnull().sum())"
      ]
    },
    {
      "cell_type": "markdown",
      "metadata": {
        "id": "YgaqETIqosUQ"
      },
      "source": [
        "extracting important features"
      ]
    },
    {
      "cell_type": "code",
      "execution_count": null,
      "metadata": {
        "colab": {
          "base_uri": "https://localhost:8080/"
        },
        "id": "0pI_1B6TWBlv",
        "outputId": "984ea3bc-0d10-4e16-add2-9372f239a5a6"
      },
      "outputs": [
        {
          "output_type": "stream",
          "name": "stdout",
          "text": [
            "client_id - 135493\n",
            "invoice_date - 8275\n",
            "tarif_type - 17\n",
            "counter_number - 201893\n",
            "counter_statue - 16\n",
            "counter_code - 42\n",
            "reading_remarque - 8\n",
            "counter_coefficient - 16\n",
            "consommation_level_1 - 8295\n",
            "consommation_level_2 - 12576\n",
            "consommation_level_3 - 2253\n",
            "consommation_level_4 - 12075\n",
            "old_index - 155648\n",
            "new_index - 157980\n",
            "months_number - 1370\n",
            "counter_type - 2\n",
            "\n",
            " ___________________________________________________________________________________________________________\n",
            "disrict - 4\n",
            "client_id - 135493\n",
            "client_catg - 3\n",
            "region - 25\n",
            "creation_date - 8088\n",
            "target - 2\n"
          ]
        }
      ],
      "source": [
        "for col in invoice_train.columns:\n",
        "    print(f\"{col} - {invoice_train[col].nunique()}\")\n",
        "print('\\n ___________________________________________________________________________________________________________')\n",
        "for col in client_train.columns:\n",
        "    print(f\"{col} - {client_train[col].nunique()}\")"
      ]
    },
    {
      "cell_type": "code",
      "execution_count": null,
      "metadata": {
        "colab": {
          "base_uri": "https://localhost:8080/",
          "height": 879
        },
        "id": "2WQfe3B7Z_pO",
        "outputId": "5821344d-9161-4c23-d2ec-a5d2eb8d2c5c"
      },
      "outputs": [
        {
          "output_type": "stream",
          "name": "stderr",
          "text": [
            "/usr/local/lib/python3.7/dist-packages/ipykernel_launcher.py:5: MatplotlibDeprecationWarning: Adding an axes using the same arguments as a previous axes currently reuses the earlier instance.  In a future version, a new instance will always be created and returned.  Meanwhile, this warning can be suppressed, and the future behavior ensured, by passing a unique label to each axes instance.\n",
            "  \"\"\"\n"
          ]
        },
        {
          "output_type": "display_data",
          "data": {
            "text/plain": [
              "<Figure size 432x288 with 1 Axes>"
            ],
            "image/png": "[encoded data removed]"
          },
          "metadata": {}
        },
        {
          "output_type": "display_data",
          "data": {
            "text/plain": [
              "<Figure size 432x288 with 1 Axes>"
            ],
            "image/png": "[encoded data removed]"
          },
          "metadata": {}
        },
        {
          "output_type": "display_data",
          "data": {
            "text/plain": [
              "<Figure size 432x288 with 1 Axes>"
            ],
            "image/png": "[encoded data removed]"
          },
          "metadata": {}
        }
      ],
      "source": [
        "for client in ['disrict','region','client_catg']:\n",
        "    region = client_train.groupby([client])['client_id'].count()\n",
        "    plt.bar(x=region.index, height=region.values, color = 'maroon', width = 0.7)\n",
        "    plt.title(f'{client} distribution', color = 'Magenta' , size = 15)\n",
        "    plt.axes().set_facecolor('pink')\n",
        "    plt.show()"
      ]
    },
    {
      "cell_type": "code",
      "execution_count": null,
      "metadata": {
        "colab": {
          "base_uri": "https://localhost:8080/",
          "height": 341
        },
        "id": "ldmY0mp0nPe4",
        "outputId": "226032c8-bc77-439e-d934-ecadb3566d49"
      },
      "outputs": [
        {
          "output_type": "stream",
          "name": "stderr",
          "text": [
            "/usr/local/lib/python3.7/dist-packages/ipykernel_launcher.py:4: MatplotlibDeprecationWarning: Adding an axes using the same arguments as a previous axes currently reuses the earlier instance.  In a future version, a new instance will always be created and returned.  Meanwhile, this warning can be suppressed, and the future behavior ensured, by passing a unique label to each axes instance.\n",
            "  after removing the cwd from sys.path.\n"
          ]
        },
        {
          "output_type": "display_data",
          "data": {
            "text/plain": [
              "<Figure size 432x288 with 1 Axes>"
            ],
            "image/png": "[encoded data removed]"
          },
          "metadata": {}
        }
      ],
      "source": [
        "region = client_train.groupby(['target'])['client_id'].count()\n",
        "plt.bar(x=region.index, height=region.values, tick_label =[0,1], color = 'maroon', width = 0.4)\n",
        "plt.title('target distribution', color = 'Magenta', size = 15)\n",
        "plt.axes().set_facecolor('pink')\n",
        "plt.show()"
      ]
    },
    {
      "cell_type": "code",
      "execution_count": null,
      "metadata": {
        "id": "fF9G-_xau9co"
      },
      "outputs": [],
      "source": [
        "for invoice in [invoice_train,invoice_test]:\n",
        "    invoice['invoice_date'] = pd.to_datetime(invoice['invoice_date'])"
      ]
    },
    {
      "cell_type": "code",
      "execution_count": null,
      "metadata": {
        "id": "qQH2mvn7x6er"
      },
      "outputs": [],
      "source": [
        "t={\"ELEC\":0,\"GAZ\":1}\n",
        "invoice_train['counter_type']=invoice_train['counter_type'].map(t)\n",
        "invoice_test['counter_type']=invoice_test['counter_type'].map(t)"
      ]
    },
    {
      "cell_type": "code",
      "execution_count": null,
      "metadata": {
        "colab": {
          "base_uri": "https://localhost:8080/"
        },
        "id": "rLJJGTBPyFou",
        "outputId": "82f5a49b-3662-4ad5-a404-5f9af378b5ae"
      },
      "outputs": [
        {
          "output_type": "execute_result",
          "data": {
            "text/plain": [
              "0    3079398\n",
              "1    1397340\n",
              "Name: counter_type, dtype: int64"
            ]
          },
          "metadata": {},
          "execution_count": 178
        }
      ],
      "source": [
        "invoice_train['counter_type'].value_counts()"
      ]
    },
    {
      "cell_type": "code",
      "execution_count": null,
      "metadata": {
        "id": "RZNIMYWoyIVx"
      },
      "outputs": [],
      "source": [
        "client_train['client_catg'] = client_train['client_catg'].astype('object')\n",
        "client_train['disrict'] = client_train['disrict'].astype('object')\n",
        "client_test['client_catg'] = client_test['client_catg'].astype('object')\n",
        "client_test['disrict'] = client_test['disrict'].astype('object')"
      ]
    },
    {
      "cell_type": "code",
      "execution_count": null,
      "metadata": {
        "id": "Qj76ZM4hygs7"
      },
      "outputs": [],
      "source": [
        "aggs = {}\n",
        "aggs['consommation_level_1'] = ['mean']\n",
        "aggs['consommation_level_2'] = ['mean']\n",
        "aggs['consommation_level_3'] = ['mean']\n",
        "aggs['consommation_level_4'] = ['mean']\n",
        "agg_trans = invoice_train.groupby(['client_id']).agg(aggs)\n",
        "agg_trans.columns = ['_'.join(client).strip() for client in agg_trans.columns.values]\n",
        "agg_trans.reset_index(inplace=True)\n",
        "df = (invoice_train.groupby('client_id')\n",
        "          .size()\n",
        "          .reset_index(name='{}transactions_count'.format('1')))\n",
        "agg_trans = pd.merge(df, agg_trans, on='client_id', how='left')"
      ]
    },
    {
      "cell_type": "code",
      "execution_count": null,
      "metadata": {
        "colab": {
          "base_uri": "https://localhost:8080/",
          "height": 250
        },
        "id": "WVva74Te1Xfi",
        "outputId": "673a8edc-ccc4-4eda-e070-2926d72081e1"
      },
      "outputs": [
        {
          "output_type": "execute_result",
          "data": {
            "text/plain": [
              "           client_id  1transactions_count  consommation_level_1_mean  \\\n",
              "0     train_Client_0                   35                 352.400000   \n",
              "1     train_Client_1                   37                 557.540541   \n",
              "2    train_Client_10                   18                 798.611111   \n",
              "3   train_Client_100                   20                   1.200000   \n",
              "4  train_Client_1000                   14                 663.714286   \n",
              "\n",
              "   consommation_level_2_mean  consommation_level_3_mean  \\\n",
              "0                  10.571429                   0.000000   \n",
              "1                   0.000000                   0.000000   \n",
              "2                  37.888889                   0.000000   \n",
              "3                   0.000000                   0.000000   \n",
              "4                 104.857143                 117.357143   \n",
              "\n",
              "   consommation_level_4_mean  \n",
              "0                   0.000000  \n",
              "1                   0.000000  \n",
              "2                   0.000000  \n",
              "3                   0.000000  \n",
              "4                  36.714286  "
            ],
            "text/html": [
              "\n",
              "  <div id=\"df-83f3ceb9-c50e-4879-a4eb-8649fd214ad5\">\n",
              "    <div class=\"colab-df-container\">\n",
              "      <div>\n",
              "<style scoped>\n",
              "    .dataframe tbody tr th:only-of-type {\n",
              "        vertical-align: middle;\n",
              "    }\n",
              "\n",
              "    .dataframe tbody tr th {\n",
              "        vertical-align: top;\n",
              "    }\n",
              "\n",
              "    .dataframe thead th {\n",
              "        text-align: right;\n",
              "    }\n",
              "</style>\n",
              "<table border=\"1\" class=\"dataframe\">\n",
              "  <thead>\n",
              "    <tr style=\"text-align: right;\">\n",
              "      <th></th>\n",
              "      <th>client_id</th>\n",
              "      <th>1transactions_count</th>\n",
              "      <th>consommation_level_1_mean</th>\n",
              "      <th>consommation_level_2_mean</th>\n",
              "      <th>consommation_level_3_mean</th>\n",
              "      <th>consommation_level_4_mean</th>\n",
              "    </tr>\n",
              "  </thead>\n",
              "  <tbody>\n",
              "    <tr>\n",
              "      <th>0</th>\n",
              "      <td>train_Client_0</td>\n",
              "      <td>35</td>\n",
              "      <td>352.400000</td>\n",
              "      <td>10.571429</td>\n",
              "      <td>0.000000</td>\n",
              "      <td>0.000000</td>\n",
              "    </tr>\n",
              "    <tr>\n",
              "      <th>1</th>\n",
              "      <td>train_Client_1</td>\n",
              "      <td>37</td>\n",
              "      <td>557.540541</td>\n",
              "      <td>0.000000</td>\n",
              "      <td>0.000000</td>\n",
              "      <td>0.000000</td>\n",
              "    </tr>\n",
              "    <tr>\n",
              "      <th>2</th>\n",
              "      <td>train_Client_10</td>\n",
              "      <td>18</td>\n",
              "      <td>798.611111</td>\n",
              "      <td>37.888889</td>\n",
              "      <td>0.000000</td>\n",
              "      <td>0.000000</td>\n",
              "    </tr>\n",
              "    <tr>\n",
              "      <th>3</th>\n",
              "      <td>train_Client_100</td>\n",
              "      <td>20</td>\n",
              "      <td>1.200000</td>\n",
              "      <td>0.000000</td>\n",
              "      <td>0.000000</td>\n",
              "      <td>0.000000</td>\n",
              "    </tr>\n",
              "    <tr>\n",
              "      <th>4</th>\n",
              "      <td>train_Client_1000</td>\n",
              "      <td>14</td>\n",
              "      <td>663.714286</td>\n",
              "      <td>104.857143</td>\n",
              "      <td>117.357143</td>\n",
              "      <td>36.714286</td>\n",
              "    </tr>\n",
              "  </tbody>\n",
              "</table>\n",
              "</div>\n",
              "      <button class=\"colab-df-convert\" onclick=\"convertToInteractive('df-83f3ceb9-c50e-4879-a4eb-8649fd214ad5')\"\n",
              "              title=\"Convert this dataframe to an interactive table.\"\n",
              "              style=\"display:none;\">\n",
              "        \n",
              "  <svg xmlns=\"http://www.w3.org/2000/svg\" height=\"24px\"viewBox=\"0 0 24 24\"\n",
              "       width=\"24px\">\n",
              "    <path d=\"M0 0h24v24H0V0z\" fill=\"none\"/>\n",
              "    <path d=\"M18.56 5.44l.94 2.06.94-2.06 2.06-.94-2.06-.94-.94-2.06-.94 2.06-2.06.94zm-11 1L8.5 8.5l.94-2.06 2.06-.94-2.06-.94L8.5 2.5l-.94 2.06-2.06.94zm10 10l.94 2.06.94-2.06 2.06-.94-2.06-.94-.94-2.06-.94 2.06-2.06.94z\"/><path d=\"M17.41 7.96l-1.37-1.37c-.4-.4-.92-.59-1.43-.59-.52 0-1.04.2-1.43.59L10.3 9.45l-7.72 7.72c-.78.78-.78 2.05 0 2.83L4 21.41c.39.39.9.59 1.41.59.51 0 1.02-.2 1.41-.59l7.78-7.78 2.81-2.81c.8-.78.8-2.07 0-2.86zM5.41 20L4 18.59l7.72-7.72 1.47 1.35L5.41 20z\"/>\n",
              "  </svg>\n",
              "      </button>\n",
              "      \n",
              "  <style>\n",
              "    .colab-df-container {\n",
              "      display:flex;\n",
              "      flex-wrap:wrap;\n",
              "      gap: 12px;\n",
              "    }\n",
              "\n",
              "    .colab-df-convert {\n",
              "      background-color: #E8F0FE;\n",
              "      border: none;\n",
              "      border-radius: 50%;\n",
              "      cursor: pointer;\n",
              "      display: none;\n",
              "      fill: #1967D2;\n",
              "      height: 32px;\n",
              "      padding: 0 0 0 0;\n",
              "      width: 32px;\n",
              "    }\n",
              "\n",
              "    .colab-df-convert:hover {\n",
              "      background-color: #E2EBFA;\n",
              "      box-shadow: 0px 1px 2px rgba(60, 64, 67, 0.3), 0px 1px 3px 1px rgba(60, 64, 67, 0.15);\n",
              "      fill: #174EA6;\n",
              "    }\n",
              "\n",
              "    [theme=dark] .colab-df-convert {\n",
              "      background-color: #3B4455;\n",
              "      fill: #D2E3FC;\n",
              "    }\n",
              "\n",
              "    [theme=dark] .colab-df-convert:hover {\n",
              "      background-color: #434B5C;\n",
              "      box-shadow: 0px 1px 3px 1px rgba(0, 0, 0, 0.15);\n",
              "      filter: drop-shadow(0px 1px 2px rgba(0, 0, 0, 0.3));\n",
              "      fill: #FFFFFF;\n",
              "    }\n",
              "  </style>\n",
              "\n",
              "      <script>\n",
              "        const buttonEl =\n",
              "          document.querySelector('#df-83f3ceb9-c50e-4879-a4eb-8649fd214ad5 button.colab-df-convert');\n",
              "        buttonEl.style.display =\n",
              "          google.colab.kernel.accessAllowed ? 'block' : 'none';\n",
              "\n",
              "        async function convertToInteractive(key) {\n",
              "          const element = document.querySelector('#df-83f3ceb9-c50e-4879-a4eb-8649fd214ad5');\n",
              "          const dataTable =\n",
              "            await google.colab.kernel.invokeFunction('convertToInteractive',\n",
              "                                                     [key], {});\n",
              "          if (!dataTable) return;\n",
              "\n",
              "          const docLinkHtml = 'Like what you see? Visit the ' +\n",
              "            '<a target=\"_blank\" href=https://colab.research.google.com/notebooks/data_table.ipynb>data table notebook</a>'\n",
              "            + ' to learn more about interactive tables.';\n",
              "          element.innerHTML = '';\n",
              "          dataTable['output_type'] = 'display_data';\n",
              "          await google.colab.output.renderOutput(dataTable, element);\n",
              "          const docLink = document.createElement('div');\n",
              "          docLink.innerHTML = docLinkHtml;\n",
              "          element.appendChild(docLink);\n",
              "        }\n",
              "      </script>\n",
              "    </div>\n",
              "  </div>\n",
              "  "
            ]
          },
          "metadata": {},
          "execution_count": 181
        }
      ],
      "source": [
        "agg_trans.head()"
      ]
    },
    {
      "cell_type": "code",
      "execution_count": null,
      "metadata": {
        "colab": {
          "base_uri": "https://localhost:8080/",
          "height": 488
        },
        "id": "l3eSVZj72UQ_",
        "outputId": "4678ab38-6c16-42d5-d8df-39f4d930d6a2"
      },
      "outputs": [
        {
          "output_type": "execute_result",
          "data": {
            "text/plain": [
              "       disrict           client_id client_catg  region creation_date  target  \\\n",
              "0           60      train_Client_0          11     101    31/12/1994     0.0   \n",
              "1           69      train_Client_1          11     107    29/05/2002     0.0   \n",
              "2           62     train_Client_10          11     301    13/03/1986     0.0   \n",
              "3           69    train_Client_100          11     105    11/07/1996     0.0   \n",
              "4           62   train_Client_1000          11     303    14/10/2014     0.0   \n",
              "...        ...                 ...         ...     ...           ...     ...   \n",
              "135488      62  train_Client_99995          11     304    26/07/2004     0.0   \n",
              "135489      63  train_Client_99996          11     311    25/10/2012     0.0   \n",
              "135490      63  train_Client_99997          11     311    22/11/2011     0.0   \n",
              "135491      60  train_Client_99998          11     101    22/12/1993     0.0   \n",
              "135492      60  train_Client_99999          11     101    18/02/1986     0.0   \n",
              "\n",
              "        1transactions_count  consommation_level_1_mean  \\\n",
              "0                        35                 352.400000   \n",
              "1                        37                 557.540541   \n",
              "2                        18                 798.611111   \n",
              "3                        20                   1.200000   \n",
              "4                        14                 663.714286   \n",
              "...                     ...                        ...   \n",
              "135488                   71                   1.957746   \n",
              "135489                   41                 185.853659   \n",
              "135490                   36                 273.083333   \n",
              "135491                    2                 300.000000   \n",
              "135492                    3                 459.333333   \n",
              "\n",
              "        consommation_level_2_mean  consommation_level_3_mean  \\\n",
              "0                       10.571429                   0.000000   \n",
              "1                        0.000000                   0.000000   \n",
              "2                       37.888889                   0.000000   \n",
              "3                        0.000000                   0.000000   \n",
              "4                      104.857143                 117.357143   \n",
              "...                           ...                        ...   \n",
              "135488                   0.000000                   0.000000   \n",
              "135489                   0.756098                   0.000000   \n",
              "135490                   0.000000                   0.000000   \n",
              "135491                  70.500000                   0.000000   \n",
              "135492                   0.000000                   0.000000   \n",
              "\n",
              "        consommation_level_4_mean  \n",
              "0                        0.000000  \n",
              "1                        0.000000  \n",
              "2                        0.000000  \n",
              "3                        0.000000  \n",
              "4                       36.714286  \n",
              "...                           ...  \n",
              "135488                   0.000000  \n",
              "135489                   0.000000  \n",
              "135490                   0.000000  \n",
              "135491                   0.000000  \n",
              "135492                   0.000000  \n",
              "\n",
              "[135493 rows x 11 columns]"
            ],
            "text/html": [
              "\n",
              "  <div id=\"df-3feba91a-5725-47fd-8846-a4b59af2052c\">\n",
              "    <div class=\"colab-df-container\">\n",
              "      <div>\n",
              "<style scoped>\n",
              "    .dataframe tbody tr th:only-of-type {\n",
              "        vertical-align: middle;\n",
              "    }\n",
              "\n",
              "    .dataframe tbody tr th {\n",
              "        vertical-align: top;\n",
              "    }\n",
              "\n",
              "    .dataframe thead th {\n",
              "        text-align: right;\n",
              "    }\n",
              "</style>\n",
              "<table border=\"1\" class=\"dataframe\">\n",
              "  <thead>\n",
              "    <tr style=\"text-align: right;\">\n",
              "      <th></th>\n",
              "      <th>disrict</th>\n",
              "      <th>client_id</th>\n",
              "      <th>client_catg</th>\n",
              "      <th>region</th>\n",
              "      <th>creation_date</th>\n",
              "      <th>target</th>\n",
              "      <th>1transactions_count</th>\n",
              "      <th>consommation_level_1_mean</th>\n",
              "      <th>consommation_level_2_mean</th>\n",
              "      <th>consommation_level_3_mean</th>\n",
              "      <th>consommation_level_4_mean</th>\n",
              "    </tr>\n",
              "  </thead>\n",
              "  <tbody>\n",
              "    <tr>\n",
              "      <th>0</th>\n",
              "      <td>60</td>\n",
              "      <td>train_Client_0</td>\n",
              "      <td>11</td>\n",
              "      <td>101</td>\n",
              "      <td>31/12/1994</td>\n",
              "      <td>0.0</td>\n",
              "      <td>35</td>\n",
              "      <td>352.400000</td>\n",
              "      <td>10.571429</td>\n",
              "      <td>0.000000</td>\n",
              "      <td>0.000000</td>\n",
              "    </tr>\n",
              "    <tr>\n",
              "      <th>1</th>\n",
              "      <td>69</td>\n",
              "      <td>train_Client_1</td>\n",
              "      <td>11</td>\n",
              "      <td>107</td>\n",
              "      <td>29/05/2002</td>\n",
              "      <td>0.0</td>\n",
              "      <td>37</td>\n",
              "      <td>557.540541</td>\n",
              "      <td>0.000000</td>\n",
              "      <td>0.000000</td>\n",
              "      <td>0.000000</td>\n",
              "    </tr>\n",
              "    <tr>\n",
              "      <th>2</th>\n",
              "      <td>62</td>\n",
              "      <td>train_Client_10</td>\n",
              "      <td>11</td>\n",
              "      <td>301</td>\n",
              "      <td>13/03/1986</td>\n",
              "      <td>0.0</td>\n",
              "      <td>18</td>\n",
              "      <td>798.611111</td>\n",
              "      <td>37.888889</td>\n",
              "      <td>0.000000</td>\n",
              "      <td>0.000000</td>\n",
              "    </tr>\n",
              "    <tr>\n",
              "      <th>3</th>\n",
              "      <td>69</td>\n",
              "      <td>train_Client_100</td>\n",
              "      <td>11</td>\n",
              "      <td>105</td>\n",
              "      <td>11/07/1996</td>\n",
              "      <td>0.0</td>\n",
              "      <td>20</td>\n",
              "      <td>1.200000</td>\n",
              "      <td>0.000000</td>\n",
              "      <td>0.000000</td>\n",
              "      <td>0.000000</td>\n",
              "    </tr>\n",
              "    <tr>\n",
              "      <th>4</th>\n",
              "      <td>62</td>\n",
              "      <td>train_Client_1000</td>\n",
              "      <td>11</td>\n",
              "      <td>303</td>\n",
              "      <td>14/10/2014</td>\n",
              "      <td>0.0</td>\n",
              "      <td>14</td>\n",
              "      <td>663.714286</td>\n",
              "      <td>104.857143</td>\n",
              "      <td>117.357143</td>\n",
              "      <td>36.714286</td>\n",
              "    </tr>\n",
              "    <tr>\n",
              "      <th>...</th>\n",
              "      <td>...</td>\n",
              "      <td>...</td>\n",
              "      <td>...</td>\n",
              "      <td>...</td>\n",
              "      <td>...</td>\n",
              "      <td>...</td>\n",
              "      <td>...</td>\n",
              "      <td>...</td>\n",
              "      <td>...</td>\n",
              "      <td>...</td>\n",
              "      <td>...</td>\n",
              "    </tr>\n",
              "    <tr>\n",
              "      <th>135488</th>\n",
              "      <td>62</td>\n",
              "      <td>train_Client_99995</td>\n",
              "      <td>11</td>\n",
              "      <td>304</td>\n",
              "      <td>26/07/2004</td>\n",
              "      <td>0.0</td>\n",
              "      <td>71</td>\n",
              "      <td>1.957746</td>\n",
              "      <td>0.000000</td>\n",
              "      <td>0.000000</td>\n",
              "      <td>0.000000</td>\n",
              "    </tr>\n",
              "    <tr>\n",
              "      <th>135489</th>\n",
              "      <td>63</td>\n",
              "      <td>train_Client_99996</td>\n",
              "      <td>11</td>\n",
              "      <td>311</td>\n",
              "      <td>25/10/2012</td>\n",
              "      <td>0.0</td>\n",
              "      <td>41</td>\n",
              "      <td>185.853659</td>\n",
              "      <td>0.756098</td>\n",
              "      <td>0.000000</td>\n",
              "      <td>0.000000</td>\n",
              "    </tr>\n",
              "    <tr>\n",
              "      <th>135490</th>\n",
              "      <td>63</td>\n",
              "      <td>train_Client_99997</td>\n",
              "      <td>11</td>\n",
              "      <td>311</td>\n",
              "      <td>22/11/2011</td>\n",
              "      <td>0.0</td>\n",
              "      <td>36</td>\n",
              "      <td>273.083333</td>\n",
              "      <td>0.000000</td>\n",
              "      <td>0.000000</td>\n",
              "      <td>0.000000</td>\n",
              "    </tr>\n",
              "    <tr>\n",
              "      <th>135491</th>\n",
              "      <td>60</td>\n",
              "      <td>train_Client_99998</td>\n",
              "      <td>11</td>\n",
              "      <td>101</td>\n",
              "      <td>22/12/1993</td>\n",
              "      <td>0.0</td>\n",
              "      <td>2</td>\n",
              "      <td>300.000000</td>\n",
              "      <td>70.500000</td>\n",
              "      <td>0.000000</td>\n",
              "      <td>0.000000</td>\n",
              "    </tr>\n",
              "    <tr>\n",
              "      <th>135492</th>\n",
              "      <td>60</td>\n",
              "      <td>train_Client_99999</td>\n",
              "      <td>11</td>\n",
              "      <td>101</td>\n",
              "      <td>18/02/1986</td>\n",
              "      <td>0.0</td>\n",
              "      <td>3</td>\n",
              "      <td>459.333333</td>\n",
              "      <td>0.000000</td>\n",
              "      <td>0.000000</td>\n",
              "      <td>0.000000</td>\n",
              "    </tr>\n",
              "  </tbody>\n",
              "</table>\n",
              "<p>135493 rows × 11 columns</p>\n",
              "</div>\n",
              "      <button class=\"colab-df-convert\" onclick=\"convertToInteractive('df-3feba91a-5725-47fd-8846-a4b59af2052c')\"\n",
              "              title=\"Convert this dataframe to an interactive table.\"\n",
              "              style=\"display:none;\">\n",
              "        \n",
              "  <svg xmlns=\"http://www.w3.org/2000/svg\" height=\"24px\"viewBox=\"0 0 24 24\"\n",
              "       width=\"24px\">\n",
              "    <path d=\"M0 0h24v24H0V0z\" fill=\"none\"/>\n",
              "    <path d=\"M18.56 5.44l.94 2.06.94-2.06 2.06-.94-2.06-.94-.94-2.06-.94 2.06-2.06.94zm-11 1L8.5 8.5l.94-2.06 2.06-.94-2.06-.94L8.5 2.5l-.94 2.06-2.06.94zm10 10l.94 2.06.94-2.06 2.06-.94-2.06-.94-.94-2.06-.94 2.06-2.06.94z\"/><path d=\"M17.41 7.96l-1.37-1.37c-.4-.4-.92-.59-1.43-.59-.52 0-1.04.2-1.43.59L10.3 9.45l-7.72 7.72c-.78.78-.78 2.05 0 2.83L4 21.41c.39.39.9.59 1.41.59.51 0 1.02-.2 1.41-.59l7.78-7.78 2.81-2.81c.8-.78.8-2.07 0-2.86zM5.41 20L4 18.59l7.72-7.72 1.47 1.35L5.41 20z\"/>\n",
              "  </svg>\n",
              "      </button>\n",
              "      \n",
              "  <style>\n",
              "    .colab-df-container {\n",
              "      display:flex;\n",
              "      flex-wrap:wrap;\n",
              "      gap: 12px;\n",
              "    }\n",
              "\n",
              "    .colab-df-convert {\n",
              "      background-color: #E8F0FE;\n",
              "      border: none;\n",
              "      border-radius: 50%;\n",
              "      cursor: pointer;\n",
              "      display: none;\n",
              "      fill: #1967D2;\n",
              "      height: 32px;\n",
              "      padding: 0 0 0 0;\n",
              "      width: 32px;\n",
              "    }\n",
              "\n",
              "    .colab-df-convert:hover {\n",
              "      background-color: #E2EBFA;\n",
              "      box-shadow: 0px 1px 2px rgba(60, 64, 67, 0.3), 0px 1px 3px 1px rgba(60, 64, 67, 0.15);\n",
              "      fill: #174EA6;\n",
              "    }\n",
              "\n",
              "    [theme=dark] .colab-df-convert {\n",
              "      background-color: #3B4455;\n",
              "      fill: #D2E3FC;\n",
              "    }\n",
              "\n",
              "    [theme=dark] .colab-df-convert:hover {\n",
              "      background-color: #434B5C;\n",
              "      box-shadow: 0px 1px 3px 1px rgba(0, 0, 0, 0.15);\n",
              "      filter: drop-shadow(0px 1px 2px rgba(0, 0, 0, 0.3));\n",
              "      fill: #FFFFFF;\n",
              "    }\n",
              "  </style>\n",
              "\n",
              "      <script>\n",
              "        const buttonEl =\n",
              "          document.querySelector('#df-3feba91a-5725-47fd-8846-a4b59af2052c button.colab-df-convert');\n",
              "        buttonEl.style.display =\n",
              "          google.colab.kernel.accessAllowed ? 'block' : 'none';\n",
              "\n",
              "        async function convertToInteractive(key) {\n",
              "          const element = document.querySelector('#df-3feba91a-5725-47fd-8846-a4b59af2052c');\n",
              "          const dataTable =\n",
              "            await google.colab.kernel.invokeFunction('convertToInteractive',\n",
              "                                                     [key], {});\n",
              "          if (!dataTable) return;\n",
              "\n",
              "          const docLinkHtml = 'Like what you see? Visit the ' +\n",
              "            '<a target=\"_blank\" href=https://colab.research.google.com/notebooks/data_table.ipynb>data table notebook</a>'\n",
              "            + ' to learn more about interactive tables.';\n",
              "          element.innerHTML = '';\n",
              "          dataTable['output_type'] = 'display_data';\n",
              "          await google.colab.output.renderOutput(dataTable, element);\n",
              "          const docLink = document.createElement('div');\n",
              "          docLink.innerHTML = docLinkHtml;\n",
              "          element.appendChild(docLink);\n",
              "        }\n",
              "      </script>\n",
              "    </div>\n",
              "  </div>\n",
              "  "
            ]
          },
          "metadata": {},
          "execution_count": 182
        }
      ],
      "source": [
        "train = pd.merge(client_train,agg_trans, on='client_id', how='left')\n",
        "train"
      ]
    },
    {
      "cell_type": "code",
      "source": [
        "test = pd.merge(client_test,agg_trans, on='client_id', how='left')\n",
        "test"
      ],
      "metadata": {
        "colab": {
          "base_uri": "https://localhost:8080/",
          "height": 488
        },
        "id": "FyW7or037qfT",
        "outputId": "b2124bb6-09e4-498b-d3e8-830e74ad329c"
      },
      "execution_count": null,
      "outputs": [
        {
          "output_type": "execute_result",
          "data": {
            "text/plain": [
              "      disrict         client_id client_catg  region creation_date  \\\n",
              "0          62     test_Client_0          11     307    28/05/2002   \n",
              "1          69     test_Client_1          11     103    06/08/2009   \n",
              "2          62    test_Client_10          11     310    07/04/2004   \n",
              "3          60   test_Client_100          11     101    08/10/1992   \n",
              "4          62  test_Client_1000          11     301    21/07/1977   \n",
              "...       ...               ...         ...     ...           ...   \n",
              "58064      63  test_Client_9995          11     399    17/03/2010   \n",
              "58065      63  test_Client_9996          11     311    28/05/2011   \n",
              "58066      60  test_Client_9997          11     101    04/03/1978   \n",
              "58067      60  test_Client_9998          11     101    23/02/2018   \n",
              "58068      69  test_Client_9999          11     104    14/03/1990   \n",
              "\n",
              "       1transactions_count  consommation_level_1_mean  \\\n",
              "0                      NaN                        NaN   \n",
              "1                      NaN                        NaN   \n",
              "2                      NaN                        NaN   \n",
              "3                      NaN                        NaN   \n",
              "4                      NaN                        NaN   \n",
              "...                    ...                        ...   \n",
              "58064                  NaN                        NaN   \n",
              "58065                  NaN                        NaN   \n",
              "58066                  NaN                        NaN   \n",
              "58067                  NaN                        NaN   \n",
              "58068                  NaN                        NaN   \n",
              "\n",
              "       consommation_level_2_mean  consommation_level_3_mean  \\\n",
              "0                            NaN                        NaN   \n",
              "1                            NaN                        NaN   \n",
              "2                            NaN                        NaN   \n",
              "3                            NaN                        NaN   \n",
              "4                            NaN                        NaN   \n",
              "...                          ...                        ...   \n",
              "58064                        NaN                        NaN   \n",
              "58065                        NaN                        NaN   \n",
              "58066                        NaN                        NaN   \n",
              "58067                        NaN                        NaN   \n",
              "58068                        NaN                        NaN   \n",
              "\n",
              "       consommation_level_4_mean  \n",
              "0                            NaN  \n",
              "1                            NaN  \n",
              "2                            NaN  \n",
              "3                            NaN  \n",
              "4                            NaN  \n",
              "...                          ...  \n",
              "58064                        NaN  \n",
              "58065                        NaN  \n",
              "58066                        NaN  \n",
              "58067                        NaN  \n",
              "58068                        NaN  \n",
              "\n",
              "[58069 rows x 10 columns]"
            ],
            "text/html": [
              "\n",
              "  <div id=\"df-5f9947b3-fb96-4c84-acda-2058ed57cce7\">\n",
              "    <div class=\"colab-df-container\">\n",
              "      <div>\n",
              "<style scoped>\n",
              "    .dataframe tbody tr th:only-of-type {\n",
              "        vertical-align: middle;\n",
              "    }\n",
              "\n",
              "    .dataframe tbody tr th {\n",
              "        vertical-align: top;\n",
              "    }\n",
              "\n",
              "    .dataframe thead th {\n",
              "        text-align: right;\n",
              "    }\n",
              "</style>\n",
              "<table border=\"1\" class=\"dataframe\">\n",
              "  <thead>\n",
              "    <tr style=\"text-align: right;\">\n",
              "      <th></th>\n",
              "      <th>disrict</th>\n",
              "      <th>client_id</th>\n",
              "      <th>client_catg</th>\n",
              "      <th>region</th>\n",
              "      <th>creation_date</th>\n",
              "      <th>1transactions_count</th>\n",
              "      <th>consommation_level_1_mean</th>\n",
              "      <th>consommation_level_2_mean</th>\n",
              "      <th>consommation_level_3_mean</th>\n",
              "      <th>consommation_level_4_mean</th>\n",
              "    </tr>\n",
              "  </thead>\n",
              "  <tbody>\n",
              "    <tr>\n",
              "      <th>0</th>\n",
              "      <td>62</td>\n",
              "      <td>test_Client_0</td>\n",
              "      <td>11</td>\n",
              "      <td>307</td>\n",
              "      <td>28/05/2002</td>\n",
              "      <td>NaN</td>\n",
              "      <td>NaN</td>\n",
              "      <td>NaN</td>\n",
              "      <td>NaN</td>\n",
              "      <td>NaN</td>\n",
              "    </tr>\n",
              "    <tr>\n",
              "      <th>1</th>\n",
              "      <td>69</td>\n",
              "      <td>test_Client_1</td>\n",
              "      <td>11</td>\n",
              "      <td>103</td>\n",
              "      <td>06/08/2009</td>\n",
              "      <td>NaN</td>\n",
              "      <td>NaN</td>\n",
              "      <td>NaN</td>\n",
              "      <td>NaN</td>\n",
              "      <td>NaN</td>\n",
              "    </tr>\n",
              "    <tr>\n",
              "      <th>2</th>\n",
              "      <td>62</td>\n",
              "      <td>test_Client_10</td>\n",
              "      <td>11</td>\n",
              "      <td>310</td>\n",
              "      <td>07/04/2004</td>\n",
              "      <td>NaN</td>\n",
              "      <td>NaN</td>\n",
              "      <td>NaN</td>\n",
              "      <td>NaN</td>\n",
              "      <td>NaN</td>\n",
              "    </tr>\n",
              "    <tr>\n",
              "      <th>3</th>\n",
              "      <td>60</td>\n",
              "      <td>test_Client_100</td>\n",
              "      <td>11</td>\n",
              "      <td>101</td>\n",
              "      <td>08/10/1992</td>\n",
              "      <td>NaN</td>\n",
              "      <td>NaN</td>\n",
              "      <td>NaN</td>\n",
              "      <td>NaN</td>\n",
              "      <td>NaN</td>\n",
              "    </tr>\n",
              "    <tr>\n",
              "      <th>4</th>\n",
              "      <td>62</td>\n",
              "      <td>test_Client_1000</td>\n",
              "      <td>11</td>\n",
              "      <td>301</td>\n",
              "      <td>21/07/1977</td>\n",
              "      <td>NaN</td>\n",
              "      <td>NaN</td>\n",
              "      <td>NaN</td>\n",
              "      <td>NaN</td>\n",
              "      <td>NaN</td>\n",
              "    </tr>\n",
              "    <tr>\n",
              "      <th>...</th>\n",
              "      <td>...</td>\n",
              "      <td>...</td>\n",
              "      <td>...</td>\n",
              "      <td>...</td>\n",
              "      <td>...</td>\n",
              "      <td>...</td>\n",
              "      <td>...</td>\n",
              "      <td>...</td>\n",
              "      <td>...</td>\n",
              "      <td>...</td>\n",
              "    </tr>\n",
              "    <tr>\n",
              "      <th>58064</th>\n",
              "      <td>63</td>\n",
              "      <td>test_Client_9995</td>\n",
              "      <td>11</td>\n",
              "      <td>399</td>\n",
              "      <td>17/03/2010</td>\n",
              "      <td>NaN</td>\n",
              "      <td>NaN</td>\n",
              "      <td>NaN</td>\n",
              "      <td>NaN</td>\n",
              "      <td>NaN</td>\n",
              "    </tr>\n",
              "    <tr>\n",
              "      <th>58065</th>\n",
              "      <td>63</td>\n",
              "      <td>test_Client_9996</td>\n",
              "      <td>11</td>\n",
              "      <td>311</td>\n",
              "      <td>28/05/2011</td>\n",
              "      <td>NaN</td>\n",
              "      <td>NaN</td>\n",
              "      <td>NaN</td>\n",
              "      <td>NaN</td>\n",
              "      <td>NaN</td>\n",
              "    </tr>\n",
              "    <tr>\n",
              "      <th>58066</th>\n",
              "      <td>60</td>\n",
              "      <td>test_Client_9997</td>\n",
              "      <td>11</td>\n",
              "      <td>101</td>\n",
              "      <td>04/03/1978</td>\n",
              "      <td>NaN</td>\n",
              "      <td>NaN</td>\n",
              "      <td>NaN</td>\n",
              "      <td>NaN</td>\n",
              "      <td>NaN</td>\n",
              "    </tr>\n",
              "    <tr>\n",
              "      <th>58067</th>\n",
              "      <td>60</td>\n",
              "      <td>test_Client_9998</td>\n",
              "      <td>11</td>\n",
              "      <td>101</td>\n",
              "      <td>23/02/2018</td>\n",
              "      <td>NaN</td>\n",
              "      <td>NaN</td>\n",
              "      <td>NaN</td>\n",
              "      <td>NaN</td>\n",
              "      <td>NaN</td>\n",
              "    </tr>\n",
              "    <tr>\n",
              "      <th>58068</th>\n",
              "      <td>69</td>\n",
              "      <td>test_Client_9999</td>\n",
              "      <td>11</td>\n",
              "      <td>104</td>\n",
              "      <td>14/03/1990</td>\n",
              "      <td>NaN</td>\n",
              "      <td>NaN</td>\n",
              "      <td>NaN</td>\n",
              "      <td>NaN</td>\n",
              "      <td>NaN</td>\n",
              "    </tr>\n",
              "  </tbody>\n",
              "</table>\n",
              "<p>58069 rows × 10 columns</p>\n",
              "</div>\n",
              "      <button class=\"colab-df-convert\" onclick=\"convertToInteractive('df-5f9947b3-fb96-4c84-acda-2058ed57cce7')\"\n",
              "              title=\"Convert this dataframe to an interactive table.\"\n",
              "              style=\"display:none;\">\n",
              "        \n",
              "  <svg xmlns=\"http://www.w3.org/2000/svg\" height=\"24px\"viewBox=\"0 0 24 24\"\n",
              "       width=\"24px\">\n",
              "    <path d=\"M0 0h24v24H0V0z\" fill=\"none\"/>\n",
              "    <path d=\"M18.56 5.44l.94 2.06.94-2.06 2.06-.94-2.06-.94-.94-2.06-.94 2.06-2.06.94zm-11 1L8.5 8.5l.94-2.06 2.06-.94-2.06-.94L8.5 2.5l-.94 2.06-2.06.94zm10 10l.94 2.06.94-2.06 2.06-.94-2.06-.94-.94-2.06-.94 2.06-2.06.94z\"/><path d=\"M17.41 7.96l-1.37-1.37c-.4-.4-.92-.59-1.43-.59-.52 0-1.04.2-1.43.59L10.3 9.45l-7.72 7.72c-.78.78-.78 2.05 0 2.83L4 21.41c.39.39.9.59 1.41.59.51 0 1.02-.2 1.41-.59l7.78-7.78 2.81-2.81c.8-.78.8-2.07 0-2.86zM5.41 20L4 18.59l7.72-7.72 1.47 1.35L5.41 20z\"/>\n",
              "  </svg>\n",
              "      </button>\n",
              "      \n",
              "  <style>\n",
              "    .colab-df-container {\n",
              "      display:flex;\n",
              "      flex-wrap:wrap;\n",
              "      gap: 12px;\n",
              "    }\n",
              "\n",
              "    .colab-df-convert {\n",
              "      background-color: #E8F0FE;\n",
              "      border: none;\n",
              "      border-radius: 50%;\n",
              "      cursor: pointer;\n",
              "      display: none;\n",
              "      fill: #1967D2;\n",
              "      height: 32px;\n",
              "      padding: 0 0 0 0;\n",
              "      width: 32px;\n",
              "    }\n",
              "\n",
              "    .colab-df-convert:hover {\n",
              "      background-color: #E2EBFA;\n",
              "      box-shadow: 0px 1px 2px rgba(60, 64, 67, 0.3), 0px 1px 3px 1px rgba(60, 64, 67, 0.15);\n",
              "      fill: #174EA6;\n",
              "    }\n",
              "\n",
              "    [theme=dark] .colab-df-convert {\n",
              "      background-color: #3B4455;\n",
              "      fill: #D2E3FC;\n",
              "    }\n",
              "\n",
              "    [theme=dark] .colab-df-convert:hover {\n",
              "      background-color: #434B5C;\n",
              "      box-shadow: 0px 1px 3px 1px rgba(0, 0, 0, 0.15);\n",
              "      filter: drop-shadow(0px 1px 2px rgba(0, 0, 0, 0.3));\n",
              "      fill: #FFFFFF;\n",
              "    }\n",
              "  </style>\n",
              "\n",
              "      <script>\n",
              "        const buttonEl =\n",
              "          document.querySelector('#df-5f9947b3-fb96-4c84-acda-2058ed57cce7 button.colab-df-convert');\n",
              "        buttonEl.style.display =\n",
              "          google.colab.kernel.accessAllowed ? 'block' : 'none';\n",
              "\n",
              "        async function convertToInteractive(key) {\n",
              "          const element = document.querySelector('#df-5f9947b3-fb96-4c84-acda-2058ed57cce7');\n",
              "          const dataTable =\n",
              "            await google.colab.kernel.invokeFunction('convertToInteractive',\n",
              "                                                     [key], {});\n",
              "          if (!dataTable) return;\n",
              "\n",
              "          const docLinkHtml = 'Like what you see? Visit the ' +\n",
              "            '<a target=\"_blank\" href=https://colab.research.google.com/notebooks/data_table.ipynb>data table notebook</a>'\n",
              "            + ' to learn more about interactive tables.';\n",
              "          element.innerHTML = '';\n",
              "          dataTable['output_type'] = 'display_data';\n",
              "          await google.colab.output.renderOutput(dataTable, element);\n",
              "          const docLink = document.createElement('div');\n",
              "          docLink.innerHTML = docLinkHtml;\n",
              "          element.appendChild(docLink);\n",
              "        }\n",
              "      </script>\n",
              "    </div>\n",
              "  </div>\n",
              "  "
            ]
          },
          "metadata": {},
          "execution_count": 183
        }
      ]
    },
    {
      "cell_type": "markdown",
      "source": [
        "Droping useless data"
      ],
      "metadata": {
        "id": "ctaXB3_fKAZG"
      }
    },
    {
      "cell_type": "code",
      "source": [
        "for df in [train,test]:\n",
        "    df['creation_date'] = pd.to_datetime(df['creation_date'])"
      ],
      "metadata": {
        "id": "q8a9qr1dD0m1"
      },
      "execution_count": null,
      "outputs": []
    },
    {
      "cell_type": "code",
      "source": [
        "drop_columns = ['client_id', 'creation_date'] \n",
        "for col in drop_columns:\n",
        "  if col in train.columns: \n",
        "    train.drop([col], axis=1, inplace=True)\n",
        "  if col in test.columns:\n",
        "    test.drop([col], axis=1, inplace=True)"
      ],
      "metadata": {
        "id": "RqfsmAWh-PSo"
      },
      "execution_count": null,
      "outputs": []
    },
    {
      "cell_type": "code",
      "source": [
        "from sklearn import preprocessing\n",
        "for f in test.columns:\n",
        "    if train[f].dtype=='object' or test[f].dtype=='object': \n",
        "        lbl = preprocessing.LabelEncoder()\n",
        "        lbl.fit(list(train[f].values) + list(test[f].values))\n",
        "        train[f] = lbl.transform(list(train[f].values))\n",
        "        test[f] = lbl.transform(list(test[f].values)) "
      ],
      "metadata": {
        "id": "9af9sic6EbWL"
      },
      "execution_count": null,
      "outputs": []
    },
    {
      "cell_type": "code",
      "source": [
        "# test any missing data before modeling\n",
        "all_data_na = train.isnull().sum() \n",
        "all_data_na = all_data_na.drop(all_data_na[all_data_na == 0].index).sort_values(ascending=False)[:30]\n",
        "missing_data = pd.DataFrame({'Missing Data ' :all_data_na})\n",
        "missing_data.head(20)"
      ],
      "metadata": {
        "colab": {
          "base_uri": "https://localhost:8080/",
          "height": 49
        },
        "id": "BVNQL9ehDJrQ",
        "outputId": "f950b3ba-4fb5-485b-df96-124006b31009"
      },
      "execution_count": null,
      "outputs": [
        {
          "output_type": "execute_result",
          "data": {
            "text/plain": [
              "Empty DataFrame\n",
              "Columns: [Missing Data ]\n",
              "Index: []"
            ],
            "text/html": [
              "\n",
              "  <div id=\"df-8d69f416-853c-4907-b7b1-96b6718a29d4\">\n",
              "    <div class=\"colab-df-container\">\n",
              "      <div>\n",
              "<style scoped>\n",
              "    .dataframe tbody tr th:only-of-type {\n",
              "        vertical-align: middle;\n",
              "    }\n",
              "\n",
              "    .dataframe tbody tr th {\n",
              "        vertical-align: top;\n",
              "    }\n",
              "\n",
              "    .dataframe thead th {\n",
              "        text-align: right;\n",
              "    }\n",
              "</style>\n",
              "<table border=\"1\" class=\"dataframe\">\n",
              "  <thead>\n",
              "    <tr style=\"text-align: right;\">\n",
              "      <th></th>\n",
              "      <th>Missing Data</th>\n",
              "    </tr>\n",
              "  </thead>\n",
              "  <tbody>\n",
              "  </tbody>\n",
              "</table>\n",
              "</div>\n",
              "      <button class=\"colab-df-convert\" onclick=\"convertToInteractive('df-8d69f416-853c-4907-b7b1-96b6718a29d4')\"\n",
              "              title=\"Convert this dataframe to an interactive table.\"\n",
              "              style=\"display:none;\">\n",
              "        \n",
              "  <svg xmlns=\"http://www.w3.org/2000/svg\" height=\"24px\"viewBox=\"0 0 24 24\"\n",
              "       width=\"24px\">\n",
              "    <path d=\"M0 0h24v24H0V0z\" fill=\"none\"/>\n",
              "    <path d=\"M18.56 5.44l.94 2.06.94-2.06 2.06-.94-2.06-.94-.94-2.06-.94 2.06-2.06.94zm-11 1L8.5 8.5l.94-2.06 2.06-.94-2.06-.94L8.5 2.5l-.94 2.06-2.06.94zm10 10l.94 2.06.94-2.06 2.06-.94-2.06-.94-.94-2.06-.94 2.06-2.06.94z\"/><path d=\"M17.41 7.96l-1.37-1.37c-.4-.4-.92-.59-1.43-.59-.52 0-1.04.2-1.43.59L10.3 9.45l-7.72 7.72c-.78.78-.78 2.05 0 2.83L4 21.41c.39.39.9.59 1.41.59.51 0 1.02-.2 1.41-.59l7.78-7.78 2.81-2.81c.8-.78.8-2.07 0-2.86zM5.41 20L4 18.59l7.72-7.72 1.47 1.35L5.41 20z\"/>\n",
              "  </svg>\n",
              "      </button>\n",
              "      \n",
              "  <style>\n",
              "    .colab-df-container {\n",
              "      display:flex;\n",
              "      flex-wrap:wrap;\n",
              "      gap: 12px;\n",
              "    }\n",
              "\n",
              "    .colab-df-convert {\n",
              "      background-color: #E8F0FE;\n",
              "      border: none;\n",
              "      border-radius: 50%;\n",
              "      cursor: pointer;\n",
              "      display: none;\n",
              "      fill: #1967D2;\n",
              "      height: 32px;\n",
              "      padding: 0 0 0 0;\n",
              "      width: 32px;\n",
              "    }\n",
              "\n",
              "    .colab-df-convert:hover {\n",
              "      background-color: #E2EBFA;\n",
              "      box-shadow: 0px 1px 2px rgba(60, 64, 67, 0.3), 0px 1px 3px 1px rgba(60, 64, 67, 0.15);\n",
              "      fill: #174EA6;\n",
              "    }\n",
              "\n",
              "    [theme=dark] .colab-df-convert {\n",
              "      background-color: #3B4455;\n",
              "      fill: #D2E3FC;\n",
              "    }\n",
              "\n",
              "    [theme=dark] .colab-df-convert:hover {\n",
              "      background-color: #434B5C;\n",
              "      box-shadow: 0px 1px 3px 1px rgba(0, 0, 0, 0.15);\n",
              "      filter: drop-shadow(0px 1px 2px rgba(0, 0, 0, 0.3));\n",
              "      fill: #FFFFFF;\n",
              "    }\n",
              "  </style>\n",
              "\n",
              "      <script>\n",
              "        const buttonEl =\n",
              "          document.querySelector('#df-8d69f416-853c-4907-b7b1-96b6718a29d4 button.colab-df-convert');\n",
              "        buttonEl.style.display =\n",
              "          google.colab.kernel.accessAllowed ? 'block' : 'none';\n",
              "\n",
              "        async function convertToInteractive(key) {\n",
              "          const element = document.querySelector('#df-8d69f416-853c-4907-b7b1-96b6718a29d4');\n",
              "          const dataTable =\n",
              "            await google.colab.kernel.invokeFunction('convertToInteractive',\n",
              "                                                     [key], {});\n",
              "          if (!dataTable) return;\n",
              "\n",
              "          const docLinkHtml = 'Like what you see? Visit the ' +\n",
              "            '<a target=\"_blank\" href=https://colab.research.google.com/notebooks/data_table.ipynb>data table notebook</a>'\n",
              "            + ' to learn more about interactive tables.';\n",
              "          element.innerHTML = '';\n",
              "          dataTable['output_type'] = 'display_data';\n",
              "          await google.colab.output.renderOutput(dataTable, element);\n",
              "          const docLink = document.createElement('div');\n",
              "          docLink.innerHTML = docLinkHtml;\n",
              "          element.appendChild(docLink);\n",
              "        }\n",
              "      </script>\n",
              "    </div>\n",
              "  </div>\n",
              "  "
            ]
          },
          "metadata": {},
          "execution_count": 187
        }
      ]
    },
    {
      "cell_type": "code",
      "source": [
        "target=train['target']\n",
        "train.drop('target',axis=1,inplace=True)"
      ],
      "metadata": {
        "id": "dCZVfDQ-C-_w"
      },
      "execution_count": null,
      "outputs": []
    },
    {
      "cell_type": "markdown",
      "metadata": {
        "id": "0u1poUK9o705"
      },
      "source": [
        "# Modeling"
      ]
    },
    {
      "cell_type": "code",
      "execution_count": null,
      "metadata": {
        "colab": {
          "base_uri": "https://localhost:8080/"
        },
        "id": "fGgtDmIPGbSj",
        "outputId": "d48eea14-1b16-4be6-af96-94f8038e3257"
      },
      "outputs": [
        {
          "output_type": "stream",
          "name": "stderr",
          "text": [
            "/usr/local/lib/python3.7/dist-packages/lightgbm/engine.py:118: UserWarning: Found `num_iteration` in params. Will use it instead of argument\n",
            "  warnings.warn(\"Found `{}` in params. Will use it instead of argument\".format(alias))\n"
          ]
        },
        {
          "output_type": "stream",
          "name": "stdout",
          "text": [
            "CPU times: user 9.3 s, sys: 94.2 ms, total: 9.4 s\n",
            "Wall time: 4.92 s\n"
          ]
        },
        {
          "output_type": "execute_result",
          "data": {
            "text/plain": [
              "LGBMClassifier(num_iteration=500)"
            ]
          },
          "metadata": {},
          "execution_count": 189
        }
      ],
      "source": [
        "# we will use lightgbm model for these data, because it's a way in gradient boosting technique for fasting compared data \n",
        "import lightgbm\n",
        "from lightgbm import LGBMClassifier\n",
        "model = LGBMClassifier(boosting_type='gbdt',num_iteration=500, silent=True)\n",
        "%time model.fit(train,target)"
      ]
    },
    {
      "cell_type": "code",
      "execution_count": null,
      "metadata": {
        "colab": {
          "base_uri": "https://localhost:8080/",
          "height": 206
        },
        "id": "P6broftYLuX-",
        "outputId": "fa0f3d68-a4f3-4224-e296-dfc5eb6da19c"
      },
      "outputs": [
        {
          "output_type": "execute_result",
          "data": {
            "text/plain": [
              "          0         1\n",
              "0  0.996183  0.003817\n",
              "1  0.994270  0.005730\n",
              "2  0.997431  0.002569\n",
              "3  0.991819  0.008181\n",
              "4  0.994875  0.005125"
            ],
            "text/html": [
              "\n",
              "  <div id=\"df-16655831-5bcb-49ab-889e-13145bd4260e\">\n",
              "    <div class=\"colab-df-container\">\n",
              "      <div>\n",
              "<style scoped>\n",
              "    .dataframe tbody tr th:only-of-type {\n",
              "        vertical-align: middle;\n",
              "    }\n",
              "\n",
              "    .dataframe tbody tr th {\n",
              "        vertical-align: top;\n",
              "    }\n",
              "\n",
              "    .dataframe thead th {\n",
              "        text-align: right;\n",
              "    }\n",
              "</style>\n",
              "<table border=\"1\" class=\"dataframe\">\n",
              "  <thead>\n",
              "    <tr style=\"text-align: right;\">\n",
              "      <th></th>\n",
              "      <th>0</th>\n",
              "      <th>1</th>\n",
              "    </tr>\n",
              "  </thead>\n",
              "  <tbody>\n",
              "    <tr>\n",
              "      <th>0</th>\n",
              "      <td>0.996183</td>\n",
              "      <td>0.003817</td>\n",
              "    </tr>\n",
              "    <tr>\n",
              "      <th>1</th>\n",
              "      <td>0.994270</td>\n",
              "      <td>0.005730</td>\n",
              "    </tr>\n",
              "    <tr>\n",
              "      <th>2</th>\n",
              "      <td>0.997431</td>\n",
              "      <td>0.002569</td>\n",
              "    </tr>\n",
              "    <tr>\n",
              "      <th>3</th>\n",
              "      <td>0.991819</td>\n",
              "      <td>0.008181</td>\n",
              "    </tr>\n",
              "    <tr>\n",
              "      <th>4</th>\n",
              "      <td>0.994875</td>\n",
              "      <td>0.005125</td>\n",
              "    </tr>\n",
              "  </tbody>\n",
              "</table>\n",
              "</div>\n",
              "      <button class=\"colab-df-convert\" onclick=\"convertToInteractive('df-16655831-5bcb-49ab-889e-13145bd4260e')\"\n",
              "              title=\"Convert this dataframe to an interactive table.\"\n",
              "              style=\"display:none;\">\n",
              "        \n",
              "  <svg xmlns=\"http://www.w3.org/2000/svg\" height=\"24px\"viewBox=\"0 0 24 24\"\n",
              "       width=\"24px\">\n",
              "    <path d=\"M0 0h24v24H0V0z\" fill=\"none\"/>\n",
              "    <path d=\"M18.56 5.44l.94 2.06.94-2.06 2.06-.94-2.06-.94-.94-2.06-.94 2.06-2.06.94zm-11 1L8.5 8.5l.94-2.06 2.06-.94-2.06-.94L8.5 2.5l-.94 2.06-2.06.94zm10 10l.94 2.06.94-2.06 2.06-.94-2.06-.94-.94-2.06-.94 2.06-2.06.94z\"/><path d=\"M17.41 7.96l-1.37-1.37c-.4-.4-.92-.59-1.43-.59-.52 0-1.04.2-1.43.59L10.3 9.45l-7.72 7.72c-.78.78-.78 2.05 0 2.83L4 21.41c.39.39.9.59 1.41.59.51 0 1.02-.2 1.41-.59l7.78-7.78 2.81-2.81c.8-.78.8-2.07 0-2.86zM5.41 20L4 18.59l7.72-7.72 1.47 1.35L5.41 20z\"/>\n",
              "  </svg>\n",
              "      </button>\n",
              "      \n",
              "  <style>\n",
              "    .colab-df-container {\n",
              "      display:flex;\n",
              "      flex-wrap:wrap;\n",
              "      gap: 12px;\n",
              "    }\n",
              "\n",
              "    .colab-df-convert {\n",
              "      background-color: #E8F0FE;\n",
              "      border: none;\n",
              "      border-radius: 50%;\n",
              "      cursor: pointer;\n",
              "      display: none;\n",
              "      fill: #1967D2;\n",
              "      height: 32px;\n",
              "      padding: 0 0 0 0;\n",
              "      width: 32px;\n",
              "    }\n",
              "\n",
              "    .colab-df-convert:hover {\n",
              "      background-color: #E2EBFA;\n",
              "      box-shadow: 0px 1px 2px rgba(60, 64, 67, 0.3), 0px 1px 3px 1px rgba(60, 64, 67, 0.15);\n",
              "      fill: #174EA6;\n",
              "    }\n",
              "\n",
              "    [theme=dark] .colab-df-convert {\n",
              "      background-color: #3B4455;\n",
              "      fill: #D2E3FC;\n",
              "    }\n",
              "\n",
              "    [theme=dark] .colab-df-convert:hover {\n",
              "      background-color: #434B5C;\n",
              "      box-shadow: 0px 1px 3px 1px rgba(0, 0, 0, 0.15);\n",
              "      filter: drop-shadow(0px 1px 2px rgba(0, 0, 0, 0.3));\n",
              "      fill: #FFFFFF;\n",
              "    }\n",
              "  </style>\n",
              "\n",
              "      <script>\n",
              "        const buttonEl =\n",
              "          document.querySelector('#df-16655831-5bcb-49ab-889e-13145bd4260e button.colab-df-convert');\n",
              "        buttonEl.style.display =\n",
              "          google.colab.kernel.accessAllowed ? 'block' : 'none';\n",
              "\n",
              "        async function convertToInteractive(key) {\n",
              "          const element = document.querySelector('#df-16655831-5bcb-49ab-889e-13145bd4260e');\n",
              "          const dataTable =\n",
              "            await google.colab.kernel.invokeFunction('convertToInteractive',\n",
              "                                                     [key], {});\n",
              "          if (!dataTable) return;\n",
              "\n",
              "          const docLinkHtml = 'Like what you see? Visit the ' +\n",
              "            '<a target=\"_blank\" href=https://colab.research.google.com/notebooks/data_table.ipynb>data table notebook</a>'\n",
              "            + ' to learn more about interactive tables.';\n",
              "          element.innerHTML = '';\n",
              "          dataTable['output_type'] = 'display_data';\n",
              "          await google.colab.output.renderOutput(dataTable, element);\n",
              "          const docLink = document.createElement('div');\n",
              "          docLink.innerHTML = docLinkHtml;\n",
              "          element.appendChild(docLink);\n",
              "        }\n",
              "      </script>\n",
              "    </div>\n",
              "  </div>\n",
              "  "
            ]
          },
          "metadata": {},
          "execution_count": 190
        }
      ],
      "source": [
        "preds = model.predict_proba(test)\n",
        "preds = pd.DataFrame(preds)\n",
        "preds.head()"
      ]
    },
    {
      "cell_type": "code",
      "execution_count": null,
      "metadata": {
        "id": "rNagwWggLw0P"
      },
      "outputs": [],
      "source": [
        "# submission and create the result file of data\n",
        "ResultSubmission = pd.DataFrame({\n",
        "        \"client_id\": SampleSubmission[\"client_id\"],\n",
        "        \"target\": preds[1]\n",
        "    })\n",
        "ResultSubmission.to_csv('ResultSubmission.csv', index=False)"
      ]
    }
  ],
  "metadata": {
    "accelerator": "TPU",
    "colab": {
      "provenance": []
    },
    "gpuClass": "standard",
    "kernelspec": {
      "display_name": "Python 3",
      "name": "python3"
    },
    "language_info": {
      "name": "python"
    }
  },
  "nbformat": 4,
  "nbformat_minor": 0
}