{
  "cells": [
    {
      "cell_type": "code",
      "execution_count": null,
      "id": "af55a321",
      "metadata": {
        "id": "af55a321"
      },
      "outputs": [],
      "source": [
        "import numpy as np\n",
        "import pandas as pd"
      ]
    },
    {
      "cell_type": "markdown",
      "id": "bbc5f15f",
      "metadata": {
        "id": "bbc5f15f"
      },
      "source": [
        "# Basic Local Search"
      ]
    },
    {
      "cell_type": "code",
      "execution_count": null,
      "id": "eceac104",
      "metadata": {
        "id": "eceac104"
      },
      "outputs": [],
      "source": [
        "def generate_neighbors(cost_dict , x, y, right_cost, down_cost, left_cost, up_cost):\n",
        "    \n",
        "    cost_dict[right_cost] = [x , y+1]\n",
        "    cost_dict[down_cost] = [x+1 , y]\n",
        "    cost_dict[left_cost] = [x , y-1]\n",
        "    cost_dict[up_cost] = [x-1 , y]\n",
        "    \n",
        "    return cost_dict\n",
        "\n",
        "def check_constraints(arr , x, y):\n",
        "    \n",
        "    cost_dict = {}\n",
        "    \n",
        "    # right\n",
        "    right_cost = arr[x][y+1] if y+1 <= 3 else -1\n",
        "    \n",
        "    # down\n",
        "    down_cost = arr[x+1][y] if x+1 <= 3 else -1\n",
        "        \n",
        "    # left\n",
        "    left_cost = arr[x][y-1] if y-1 >= 0 else -1\n",
        "        \n",
        "    # up\n",
        "    up_cost = arr[x-1][y] if x-1 >= 0 else -1\n",
        "    \n",
        "    # adding neighbours in dictionary\n",
        "    #cost_dict empty\n",
        "    #x,y current val \n",
        "    #exploring the nigh  - val xy directions , cost key \n",
        "\n",
        "    cost_dict = generate_neighbors(cost_dict , x, y, right_cost, down_cost, left_cost, up_cost)\n",
        "    \n",
        "    return cost_dict, max(right_cost, down_cost, left_cost, up_cost)\n",
        "\n",
        "def objective(count):\n",
        "    print('Count =',count)\n",
        "    sum_value = int(count*(count+1)/2)\n",
        "    cost = (profit)*sum_value/16 - sum_value\n",
        "    \n",
        "    return int(cost)\n",
        "        "
      ]
    },
    {
      "cell_type": "code",
      "execution_count": null,
      "id": "7308bd06",
      "metadata": {
        "scrolled": false,
        "colab": {
          "base_uri": "https://localhost:8080/"
        },
        "id": "7308bd06",
        "outputId": "ff349ec4-8730-46f4-a448-ff30df90d672"
      },
      "outputs": [
        {
          "output_type": "stream",
          "name": "stdout",
          "text": [
            "Initial Position \n",
            "[[1 0 0 0]\n",
            " [0 0 0 0]\n",
            " [0 0 0 0]\n",
            " [0 0 0 0]]\n",
            "----------------------\n",
            "Paths are following..\n",
            "0\n",
            "[[1 0 0 0]\n",
            " [2 0 0 0]\n",
            " [0 0 0 0]\n",
            " [0 0 0 0]] \n",
            "\n",
            "0\n",
            "[[1 0 0 0]\n",
            " [2 0 0 0]\n",
            " [3 0 0 0]\n",
            " [0 0 0 0]] \n",
            "\n",
            "5\n",
            "[[1 0 0 0]\n",
            " [2 0 0 0]\n",
            " [3 4 0 0]\n",
            " [0 0 0 0]] \n",
            "\n",
            "5\n",
            "[[1 0 0 0]\n",
            " [2 0 0 0]\n",
            " [3 4 0 0]\n",
            " [0 5 0 0]] \n",
            "\n",
            "7\n",
            "[[1 0 0 0]\n",
            " [2 0 0 0]\n",
            " [3 4 0 0]\n",
            " [0 5 6 0]] \n",
            "\n",
            "Count = 7\n",
            "objective function value is:  -15\n"
          ]
        },
        {
          "output_type": "execute_result",
          "data": {
            "text/plain": [
              "matrix([[1, 0, 0, 0],\n",
              "        [2, 0, 0, 0],\n",
              "        [3, 4, 0, 0],\n",
              "        [0, 5, 6, 7]])"
            ]
          },
          "metadata": {},
          "execution_count": 118
        }
      ],
      "source": [
        "\n",
        "arr = [[0 , 0 , 0 , 0],\n",
        "       [0 , -1 , 0 , -1],\n",
        "       [0 , 5 , 0 , 0],\n",
        "       [2 , 0 ,2 , 100]]\n",
        "\n",
        "result = [[0,0,0,0],\n",
        "          [0,0,0,0],\n",
        "          [0,0,0,0],\n",
        "          [0,0,0,0]]\n",
        "\n",
        "row, col = 0 , 0\n",
        "result[row][col] = 1 #WHENever i pass particolar row col i add 1 and the cont inithlaise by 2 becuse i alrady add 1 to the initial pos\n",
        "count = 2\n",
        "\n",
        "print(\"Initial Position \")\n",
        "print(np.matrix(result))\n",
        "print(\"----------------------\")\n",
        "\n",
        "print(\"Paths are following..\")\n",
        "\n",
        "profit = 0\n",
        "while True: # to check the cons\n",
        "    cost_dict , max_cost = check_constraints(arr , row, col)# 2d arr , intial val - return the cost dic\n",
        "    arr[row][col] = -1 # tryverce avoid moving forward to replace the corrent vlaue to -1 this show that i have already vist the block , when alg move again to the same block it consider it alreadyvisted \n",
        "    row = cost_dict[max_cost][0] #for x exis\n",
        "    col = cost_dict[max_cost][1]# for y exis  to get the max cost where present\n",
        "    \n",
        "    if max_cost == 100 or max_cost == -1: \n",
        "        if max_cost == 100:\n",
        "             result[row][col] = count\n",
        "        if max_cost == -1:\n",
        "            count -= 1 #if it stuck it has greater val so decremnt \n",
        "        break \n",
        "    else:\n",
        "        result[row][col] = count #ubdate cont in each iteration \n",
        "        count += 1 #whenever there is a pos to move from the current pos the count upd and its replase to the right row col \n",
        "        profit += arr[row][col]\n",
        "        print(profit)\n",
        "    print(np.matrix(result), \"\\n\")\n",
        "        \n",
        "\n",
        "print(\"objective function value is: \", objective(count))\n",
        "np.matrix(result)"
      ]
    }
  ],
  "metadata": {
    "kernelspec": {
      "display_name": "Python 3 (ipykernel)",
      "language": "python",
      "name": "python3"
    },
    "language_info": {
      "codemirror_mode": {
        "name": "ipython",
        "version": 3
      },
      "file_extension": ".py",
      "mimetype": "text/x-python",
      "name": "python",
      "nbconvert_exporter": "python",
      "pygments_lexer": "ipython3",
      "version": "3.10.5"
    },
    "colab": {
      "provenance": []
    }
  },
  "nbformat": 4,
  "nbformat_minor": 5
}